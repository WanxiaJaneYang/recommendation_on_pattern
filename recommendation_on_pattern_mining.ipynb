{
 "cells": [
  {
   "cell_type": "markdown",
   "id": "22c23213",
   "metadata": {},
   "source": [
    "# 1. Data Analysis"
   ]
  },
  {
   "cell_type": "code",
   "execution_count": 1,
   "id": "76591651",
   "metadata": {},
   "outputs": [
    {
     "name": "stdout",
     "output_type": "stream",
     "text": [
      "   Member_number        Date  itemDescription  year  month  day  day_of_week\n",
      "0           3021  30/01/2015      frankfurter  2015      1   30            4\n",
      "1           1292  24/10/2015             pork  2015     10   24            5\n",
      "2           4206   4/04/2014  root vegetables  2014      4    4            4\n",
      "3           4369  25/08/2015           onions  2015      8   25            1\n",
      "4           1522   1/07/2014          waffles  2014      7    1            1\n",
      "   Member_number        Date itemDescription  year  month  day  day_of_week\n",
      "0           3481   8/03/2015           candy  2015      3    8            6\n",
      "1           1254  19/04/2015      white wine  2015      4   19            6\n",
      "2           2835  28/01/2014   domestic eggs  2014      1   28            1\n",
      "3           2854   2/08/2015          coffee  2015      8    2            6\n",
      "4           4637  12/08/2014   bottled water  2014      8   12            1\n"
     ]
    }
   ],
   "source": [
    "import pandas as pd\n",
    "\n",
    "# Load the data\n",
    "train_data = pd.read_csv('Groceries data train.csv')\n",
    "test_data = pd.read_csv('Groceries data test.csv')\n",
    "\n",
    "# Print the first few rows of the train data\n",
    "print(train_data.head())\n",
    "\n",
    "# Print the first few rows of the test data\n",
    "print(test_data.head())\n"
   ]
  },
  {
   "cell_type": "code",
   "execution_count": 2,
   "id": "4e1b0aa6",
   "metadata": {},
   "outputs": [
    {
     "name": "stdout",
     "output_type": "stream",
     "text": [
      "<class 'pandas.core.frame.DataFrame'>\n",
      "RangeIndex: 27000 entries, 0 to 26999\n",
      "Data columns (total 7 columns):\n",
      " #   Column           Non-Null Count  Dtype \n",
      "---  ------           --------------  ----- \n",
      " 0   Member_number    27000 non-null  int64 \n",
      " 1   Date             27000 non-null  object\n",
      " 2   itemDescription  27000 non-null  object\n",
      " 3   year             27000 non-null  int64 \n",
      " 4   month            27000 non-null  int64 \n",
      " 5   day              27000 non-null  int64 \n",
      " 6   day_of_week      27000 non-null  int64 \n",
      "dtypes: int64(5), object(2)\n",
      "memory usage: 1.4+ MB\n",
      "<class 'pandas.core.frame.DataFrame'>\n",
      "RangeIndex: 11765 entries, 0 to 11764\n",
      "Data columns (total 7 columns):\n",
      " #   Column           Non-Null Count  Dtype \n",
      "---  ------           --------------  ----- \n",
      " 0   Member_number    11765 non-null  int64 \n",
      " 1   Date             11765 non-null  object\n",
      " 2   itemDescription  11765 non-null  object\n",
      " 3   year             11765 non-null  int64 \n",
      " 4   month            11765 non-null  int64 \n",
      " 5   day              11765 non-null  int64 \n",
      " 6   day_of_week      11765 non-null  int64 \n",
      "dtypes: int64(5), object(2)\n",
      "memory usage: 643.5+ KB\n"
     ]
    }
   ],
   "source": [
    "train_data.info()\n",
    "test_data.info()"
   ]
  },
  {
   "cell_type": "code",
   "execution_count": 3,
   "id": "015fa672",
   "metadata": {},
   "outputs": [
    {
     "name": "stdout",
     "output_type": "stream",
     "text": [
      "Missing values in train data:  Member_number      0\n",
      "Date               0\n",
      "itemDescription    0\n",
      "year               0\n",
      "month              0\n",
      "day                0\n",
      "day_of_week        0\n",
      "dtype: int64\n",
      "Missing values in test data:  Member_number      0\n",
      "Date               0\n",
      "itemDescription    0\n",
      "year               0\n",
      "month              0\n",
      "day                0\n",
      "day_of_week        0\n",
      "dtype: int64\n"
     ]
    }
   ],
   "source": [
    "# Check for missing values\n",
    "print(\"Missing values in train data: \", train_data.isnull().sum())\n",
    "print(\"Missing values in test data: \", test_data.isnull().sum())"
   ]
  },
  {
   "cell_type": "markdown",
   "id": "784661a1",
   "metadata": {},
   "source": [
    "No missing data"
   ]
  },
  {
   "cell_type": "code",
   "execution_count": 4,
   "id": "5b0e358b",
   "metadata": {},
   "outputs": [
    {
     "name": "stdout",
     "output_type": "stream",
     "text": [
      "Train data unique values:\n",
      "Column 'Member_number' has 3872 unique values.\n",
      "Column 'Date' has 728 unique values.\n",
      "Column 'itemDescription' has 167 unique values.\n",
      "Column 'year' has 2 unique values.\n",
      "Column 'month' has 12 unique values.\n",
      "Column 'day' has 31 unique values.\n",
      "Column 'day_of_week' has 7 unique values.\n",
      "\n",
      "Test data unique values:\n",
      "Column 'Member_number' has 3566 unique values.\n",
      "Column 'Date' has 728 unique values.\n",
      "Column 'itemDescription' has 162 unique values.\n",
      "Column 'year' has 2 unique values.\n",
      "Column 'month' has 12 unique values.\n",
      "Column 'day' has 31 unique values.\n",
      "Column 'day_of_week' has 7 unique values.\n"
     ]
    }
   ],
   "source": [
    "# Check unique values\n",
    "print(\"Train data unique values:\")\n",
    "for column in train_data.columns:\n",
    "    unique_values = train_data[column].nunique()\n",
    "    print(f\"Column '{column}' has {unique_values} unique values.\")\n",
    "    \n",
    "print(\"\\nTest data unique values:\")\n",
    "for column in test_data.columns:\n",
    "    unique_values =test_data[column].nunique()\n",
    "    print(f\"Column '{column}' has {unique_values} unique values.\")"
   ]
  },
  {
   "cell_type": "markdown",
   "id": "14658271",
   "metadata": {},
   "source": [
    "The train data seems to have more members and items containing than test data"
   ]
  },
  {
   "cell_type": "code",
   "execution_count": 5,
   "id": "f78910a9",
   "metadata": {},
   "outputs": [
    {
     "name": "stdout",
     "output_type": "stream",
     "text": [
      "New items in test data:  set()\n",
      "New members in test data:  {2304, 2826, 3858, 1555, 1944, 3994, 2844, 3742, 1695, 1568, 4639, 3362, 4904, 4905, 1963, 1096, 1745, 4307, 1626, 4447, 1250, 1255, 2668, 4590, 2417, 4472}\n"
     ]
    }
   ],
   "source": [
    "# Check if there is new product or new member appearing in test data\n",
    "# New items in test set\n",
    "new_items = set(test_data['itemDescription']).difference(train_data['itemDescription'])\n",
    "print(\"New items in test data: \", new_items)\n",
    "\n",
    "# New members in test set\n",
    "new_members = set(test_data['Member_number']).difference(train_data['Member_number'])\n",
    "print(\"New members in test data: \", new_members)\n"
   ]
  },
  {
   "cell_type": "markdown",
   "id": "283cfb04",
   "metadata": {},
   "source": [
    "No new items in test data, but there are new members appearing in test data.\n",
    "This scenario could pose some challenges for a collaborative filtering approach, as it relies on past user behavior to make recommendations. This is often referred to as the \"cold start\" problem in recommendation systems. In such cases, a content-based or hybrid recommendation system might be a better fit, as they can handle new users by looking at the item features or by providing generic recommendations."
   ]
  },
  {
   "cell_type": "code",
   "execution_count": 6,
   "id": "32a50726",
   "metadata": {},
   "outputs": [
    {
     "data": {
      "image/png": "[encoded data removed]",
      "text/plain": [
       "<Figure size 1500x800 with 1 Axes>"
      ]
     },
     "metadata": {},
     "output_type": "display_data"
    },
    {
     "data": {
      "image/png": "[encoded data removed]",
      "text/plain": [
       "<Figure size 1000x800 with 1 Axes>"
      ]
     },
     "metadata": {},
     "output_type": "display_data"
    }
   ],
   "source": [
    "import matplotlib.pyplot as plt\n",
    "import seaborn as sns\n",
    "\n",
    "# Most common items\n",
    "plt.figure(figsize=(15,8))\n",
    "train_data['itemDescription'].value_counts()[:10].plot(kind='bar')\n",
    "plt.title('Top 10 Most Common Items')\n",
    "plt.xlabel('Items')\n",
    "plt.ylabel('Count')\n",
    "plt.show()\n",
    "\n",
    "# Purchases by day of week\n",
    "plt.figure(figsize=(10,8))\n",
    "sns.countplot(x='day_of_week', data=train_data)\n",
    "plt.title('Purchases by Day of Week')\n",
    "plt.xlabel('Day of Week')\n",
    "plt.ylabel('Count')\n",
    "plt.xticks(ticks=range(7), labels=['Monday', 'Tuesday', 'Wednesday', 'Thursday', 'Friday', 'Saturday', 'Sunday'])\n",
    "plt.show()\n"
   ]
  },
  {
   "cell_type": "markdown",
   "id": "9bcda19b",
   "metadata": {},
   "source": [
    "The top most popular items could be used for recommending for new users where we don't have historical data\n",
    "The distribution of sales across the week, even though not significantly different, could be used to create time-based features. For instance, if a specific user tends to buy more frequently on a particular day of the week, this could be a valuable feature."
   ]
  },
  {
   "cell_type": "markdown",
   "id": "bf919328",
   "metadata": {},
   "source": [
    "# 2. Recommendations and Evaluations"
   ]
  },
  {
   "cell_type": "markdown",
   "id": "d543a06e",
   "metadata": {},
   "source": [
    "## 2.1 Collaborative Filtering Recommendation "
   ]
  },
  {
   "cell_type": "markdown",
   "id": "44fe18eb",
   "metadata": {},
   "source": [
    "### 2.1.1 Recommendation Based on Item Similarity"
   ]
  },
  {
   "cell_type": "code",
   "execution_count": 7,
   "id": "204616c0",
   "metadata": {},
   "outputs": [
    {
     "name": "stdout",
     "output_type": "stream",
     "text": [
      "(['whole milk', 'other vegetables', 'rolls/buns', 'soda', 'yogurt'], [17.73357905597738, 15.886567295700388, 15.467029281002908, 14.648593232747096, 13.58992396101524])\n"
     ]
    }
   ],
   "source": [
    "import pandas as pd\n",
    "import numpy as np\n",
    "from sklearn.metrics.pairwise import cosine_similarity\n",
    "from scipy import sparse \n",
    "\n",
    "# Load the training data\n",
    "train_data = pd.read_csv('Groceries data train.csv')\n",
    "\n",
    "# Create a pivot table with members as rows, items as columns and purchase as values\n",
    "pivot_table = train_data.pivot_table(index='Member_number', columns='itemDescription', aggfunc='size', fill_value=0)\n",
    "\n",
    "# Convert the pivot table to a sparse matrix for more efficient calculations\n",
    "sparse_matrix = sparse.csr_matrix(pivot_table.values)\n",
    "\n",
    "# Calculate the cosine similarity matrix\n",
    "item_similarity = cosine_similarity(sparse_matrix.T)\n",
    "\n",
    "# Create a dataframe for the similarity matrix\n",
    "item_similarity_df = pd.DataFrame(item_similarity, index=pivot_table.columns, columns=pivot_table.columns)\n",
    "\n",
    "# Function to recommend top k items for a user\n",
    "def recommend_on_item_similarity(user, k=10):\n",
    "    if user in pivot_table.index:\n",
    "        user_items = pivot_table.loc[user]\n",
    "        not_purchased = user_items[user_items == 0].index\n",
    "        item_scores = item_similarity_df.loc[not_purchased].sum(axis=1)\n",
    "        top_items_scores = item_scores.sort_values(ascending=False)[:k]\n",
    "    else:  # user not in training data\n",
    "        top_items_scores = pivot_table.sum().sort_values(ascending=False)[:k]\n",
    "    \n",
    "    # Return items and scores separately\n",
    "    items = list(top_items_scores.index)\n",
    "    scores = list(top_items_scores.values)\n",
    "    return items, scores\n",
    "\n",
    "# Test the function with a user\n",
    "test_user = train_data['Member_number'].iloc[0]  # getting the Member_number of the first user in the dataset\n",
    "print(recommend_on_item_similarity(test_user, 5))  # getting the top 5 recommendations for this user\n"
   ]
  },
  {
   "cell_type": "markdown",
   "id": "b6b6bc85",
   "metadata": {},
   "source": [
    "The scores are the aggregate similarity scores of each item to the items the user has bought"
   ]
  },
  {
   "cell_type": "markdown",
   "id": "f150d15c",
   "metadata": {},
   "source": [
    "### 2.1.2 Recommendation based on user similarity"
   ]
  },
  {
   "cell_type": "code",
   "execution_count": 8,
   "id": "37b62bcd",
   "metadata": {},
   "outputs": [
    {
     "name": "stdout",
     "output_type": "stream",
     "text": [
      "(['spread cheese', 'bottled water', 'brown bread', 'frankfurter', 'onions'], [0.5345224838248487, 0.5345224838248487, 0.5345224838248487, 0.5345224838248487, 0.5345224838248487])\n"
     ]
    }
   ],
   "source": [
    "# Calculate the cosine similarity matrix\n",
    "user_similarity = cosine_similarity(sparse_matrix)\n",
    "\n",
    "# Create a dataframe for the similarity matrix\n",
    "user_similarity_df = pd.DataFrame(user_similarity, index=pivot_table.index, columns=pivot_table.index)\n",
    "\n",
    "# Function to recommend top k items for a user\n",
    "def recommend_on_user_similarity(user, k=10):\n",
    "    if user in pivot_table.index:\n",
    "        user_similarities = user_similarity_df[user].sort_values(ascending=False)\n",
    "        similar_users = user_similarities.index[1:k+1].tolist()  # Exclude the user themself\n",
    "\n",
    "        recommended_items = []\n",
    "        scores = []\n",
    "        for similar_user in similar_users:\n",
    "            similar_user_items = set(pivot_table.loc[similar_user][pivot_table.loc[similar_user] > 0].index)\n",
    "            recommended_items.extend(similar_user_items)\n",
    "            scores.extend([user_similarities[similar_user]]*len(similar_user_items))\n",
    "\n",
    "        # If there are not enough items to recommend, recommend the most popular items\n",
    "        if len(recommended_items) < k:\n",
    "            popular_items = pivot_table.sum().sort_values(ascending=False)[:k].index\n",
    "            popular_scores = pivot_table.sum().sort_values(ascending=False)[:k].values\n",
    "            recommended_items.extend(popular_items[:k - len(recommended_items)])\n",
    "            scores.extend(popular_scores[:k - len(recommended_items)])\n",
    "    else:  # user not in training data\n",
    "        recommended_items = list(pivot_table.sum().sort_values(ascending=False)[:k].index)\n",
    "        scores = list(pivot_table.sum().sort_values(ascending=False)[:k].values)\n",
    "\n",
    "    return recommended_items[:k], scores[:k]\n",
    "\n",
    "\n",
    "# Test the function with a user\n",
    "test_user = train_data['Member_number'].iloc[0]  # getting the Member_number of the first user in the dataset\n",
    "print(recommend_on_user_similarity(test_user, 5))  # getting the top 5 recommendations for this user\n"
   ]
  },
  {
   "cell_type": "markdown",
   "id": "29918b80",
   "metadata": {},
   "source": [
    "### 2.1.3 Evaluation of Collaborative Filtering "
   ]
  },
  {
   "cell_type": "code",
   "execution_count": 9,
   "id": "391c39ab",
   "metadata": {},
   "outputs": [],
   "source": [
    "# define a function to calculate the precision at k\n",
    "def precision_at_k(test_data, recommend_function, k):\n",
    "    hits = 0\n",
    "    total = 0\n",
    "    for user in test_data['Member_number'].unique():\n",
    "        actual_items = set(test_data[test_data['Member_number'] == user]['itemDescription'])\n",
    "        recommended_items, _ = recommend_function(user, k)  # Ignore scores\n",
    "        hits += len(actual_items & set(recommended_items))\n",
    "        total += k\n",
    "    return hits / total\n",
    "\n",
    "# define a function to calculate recall at k\n",
    "def recall_at_k(test_data, recommend_function, k):\n",
    "    hits = 0\n",
    "    total = 0\n",
    "    for user in test_data['Member_number'].unique():\n",
    "        actual_items = set(test_data[test_data['Member_number'] == user]['itemDescription'])\n",
    "        recommended_items, _ = recommend_function(user, k)  # Ignore scores\n",
    "        hits += len(actual_items & set(recommended_items))\n",
    "        total += len(actual_items)\n",
    "    return hits / total\n",
    "\n",
    "# Coverage\n",
    "def coverage(test_data, recommend_function, k):\n",
    "    recommended_items = set()\n",
    "    for user in test_data['Member_number'].unique():\n",
    "        items, _ = recommend_function(user, k)  # Ignore scores\n",
    "        recommended_items.update(items)\n",
    "    return len(recommended_items) / len(all_items)\n",
    "\n",
    "# Define all_items as the set of all unique items in the dataset\n",
    "all_items = set(train_data['itemDescription'])"
   ]
  },
  {
   "cell_type": "code",
   "execution_count": 10,
   "id": "616025ef",
   "metadata": {},
   "outputs": [
    {
     "name": "stdout",
     "output_type": "stream",
     "text": [
      "Item-based recommendation:\n",
      "Precision@10: 0.09694335389792484\n",
      "Recall@10: 0.30356515630488234\n",
      "Coverage@10: 0.12574850299401197\n",
      "\n",
      "User-based recommendation on test data:\n",
      "Precision@10: 0.05036455412226584\n",
      "Recall@10: 0.15770987003863715\n",
      "Coverage@10: 0.9640718562874252\n"
     ]
    }
   ],
   "source": [
    "# Load the test data\n",
    "test_data = pd.read_csv('Groceries data test.csv')\n",
    "\n",
    "# Initialize the list to hold the metrics data\n",
    "metrics_data = []\n",
    "\n",
    "# Evaluate the item-based recommendation function\n",
    "print('Item-based recommendation:')\n",
    "precision = precision_at_k(test_data, recommend_on_item_similarity, 10)\n",
    "recall = recall_at_k(test_data, recommend_on_item_similarity, 10)\n",
    "coverage_val = coverage(test_data, recommend_on_item_similarity, 10)\n",
    "\n",
    "print('Precision@10:', precision)\n",
    "print('Recall@10:', recall)\n",
    "print('Coverage@10:', coverage_val)\n",
    "\n",
    "# Add to the metrics data\n",
    "metrics_data.append(('CF_Item_Based_test', {'Precision@10': precision, 'Recall@10': recall, 'Coverage@10': coverage_val}))\n",
    "\n",
    "# Evaluate the user-based recommendation function\n",
    "print('\\nUser-based recommendation on test data:')\n",
    "precision = precision_at_k(test_data, recommend_on_user_similarity, 10)\n",
    "recall = recall_at_k(test_data, recommend_on_user_similarity, 10)\n",
    "coverage_val = coverage(test_data, recommend_on_user_similarity, 10)\n",
    "\n",
    "print('Precision@10:', precision)\n",
    "print('Recall@10:', recall)\n",
    "print('Coverage@10:', coverage_val)\n",
    "\n",
    "# Add to the metrics data\n",
    "metrics_data.append(('CF_User_Based_test', {'Precision@10': precision, 'Recall@10': recall, 'Coverage@10': coverage_val}))\n",
    "\n",
    "# At the end, convert the list to DataFrame and save to CSV\n",
    "df_metrics = pd.DataFrame.from_records(metrics_data, columns=['method', 'metrics'])\n",
    "df_metrics = pd.concat([df_metrics['method'], df_metrics['metrics'].apply(pd.Series)], axis=1)\n",
    "df_metrics.to_csv('metrics.csv', index=False)\n"
   ]
  },
  {
   "cell_type": "code",
   "execution_count": 11,
   "id": "5df766b2",
   "metadata": {},
   "outputs": [
    {
     "name": "stdout",
     "output_type": "stream",
     "text": [
      "Item-based recommendation on train data:\n",
      "Precision@10: 0.0\n",
      "Recall@10: 0.0\n",
      "Coverage@10: 0.12574850299401197\n",
      "\n",
      "User-based recommendation on train data:\n",
      "Precision@10: 0.39803719008264465\n",
      "Recall@10: 0.6162335065973611\n",
      "Coverage@10: 0.9640718562874252\n"
     ]
    }
   ],
   "source": [
    "# Load the test data\n",
    "train_data = pd.read_csv('Groceries data train.csv')\n",
    "\n",
    "# Evaluate the item-based recommendation function\n",
    "print('Item-based recommendation on train data:')\n",
    "precision = precision_at_k(train_data, recommend_on_item_similarity, 10)\n",
    "recall = recall_at_k(train_data, recommend_on_item_similarity, 10)\n",
    "coverage_val = coverage(train_data, recommend_on_item_similarity, 10)\n",
    "\n",
    "print('Precision@10:', precision)\n",
    "print('Recall@10:', recall)\n",
    "print('Coverage@10:', coverage_val)\n",
    "\n",
    "# Add to the metrics data\n",
    "metrics_data.append(('CF_Item_Based_train', {'Precision@10': precision, 'Recall@10': recall, 'Coverage@10': coverage_val}))\n",
    "\n",
    "# Evaluate the user-based recommendation function\n",
    "print('\\nUser-based recommendation on train data:')\n",
    "precision = precision_at_k(train_data, recommend_on_user_similarity, 10)\n",
    "recall = recall_at_k(train_data, recommend_on_user_similarity, 10)\n",
    "coverage_val = coverage(train_data, recommend_on_user_similarity, 10)\n",
    "\n",
    "print('Precision@10:', precision)\n",
    "print('Recall@10:', recall)\n",
    "print('Coverage@10:', coverage_val)\n",
    "\n",
    "# Add to the metrics data\n",
    "metrics_data.append(('CF_User_Based_train', {'Precision@10': precision, 'Recall@10': recall, 'Coverage@10': coverage_val}))\n",
    "\n",
    "# At the end, convert the list to DataFrame and save to CSV\n",
    "df_metrics = pd.DataFrame.from_records(metrics_data, columns=['method', 'metrics'])\n",
    "df_metrics = pd.concat([df_metrics['method'], df_metrics['metrics'].apply(pd.Series)], axis=1)\n",
    "df_metrics.to_csv('metrics.csv', index=False)\n"
   ]
  },
  {
   "cell_type": "markdown",
   "id": "20305c1d",
   "metadata": {},
   "source": [
    "This suggests that while the item-based recommendation system has a higher precision and recall, indicating that it was more accurate at predicting which items users would purchase, the user-based recommendation system provided a greater diversity of recommendations, as indicated by the higher coverage."
   ]
  },
  {
   "cell_type": "markdown",
   "id": "34f8faec",
   "metadata": {},
   "source": [
    "## 2.2 Recommendation Directly Based on Patterns"
   ]
  },
  {
   "cell_type": "markdown",
   "id": "7576cac9",
   "metadata": {},
   "source": [
    "### 2.2.1 Pattern Mining"
   ]
  },
  {
   "cell_type": "code",
   "execution_count": 12,
   "id": "baaef3a9",
   "metadata": {},
   "outputs": [
    {
     "name": "stdout",
     "output_type": "stream",
     "text": [
      "Member_number\n",
      "1000    [sausage, sausage, misc. beverages, canned bee...\n",
      "1001    [rolls/buns, frankfurter, soda, soda, whole mi...\n",
      "1002    [frozen vegetables, sugar, whole milk, tropica...\n",
      "1003    [root vegetables, dental care, rolls/buns, sau...\n",
      "1004    [other vegetables, canned beer, cling film/bag...\n",
      "                              ...                        \n",
      "4996    [dessert, bottled water, salty snack, decalcif...\n",
      "4997    [canned beer, tropical fruit, white wine, grapes]\n",
      "4998                                   [rolls/buns, curd]\n",
      "4999    [newspapers, kitchen towels, onions, napkins, ...\n",
      "5000    [soda, other vegetables, onions, fruit/vegetab...\n",
      "Name: itemDescription, Length: 3872, dtype: object\n",
      "      support                                  itemsets\n",
      "0    0.052686                                (UHT-milk)\n",
      "1    0.022211                           (baking powder)\n",
      "2    0.090134                                    (beef)\n",
      "3    0.057335                                 (berries)\n",
      "4    0.043905                               (beverages)\n",
      "..        ...                                       ...\n",
      "268  0.023502         (rolls/buns, sausage, whole milk)\n",
      "269  0.031250            (rolls/buns, whole milk, soda)\n",
      "270  0.020919  (rolls/buns, whole milk, tropical fruit)\n",
      "271  0.029442          (rolls/buns, whole milk, yogurt)\n",
      "272  0.025826                (whole milk, yogurt, soda)\n",
      "\n",
      "[273 rows x 2 columns]\n"
     ]
    }
   ],
   "source": [
    "import pandas as pd\n",
    "from mlxtend.preprocessing import TransactionEncoder\n",
    "from mlxtend.frequent_patterns import apriori\n",
    "\n",
    "# load the train data\n",
    "df = pd.read_csv('Groceries data train.csv')\n",
    "\n",
    "# Group by member number, and merge all item descriptions purchased by one member together\n",
    "shoppingLists = df.groupby(['Member_number'])['itemDescription'].apply(list)\n",
    "print(shoppingLists)\n",
    "\n",
    "# TransactionEncoder expects a list as input, convert Panda series form to list\n",
    "shoppingLists = shoppingLists.values.tolist()\n",
    "\n",
    "# encode df to pandas DataFrame\n",
    "te = TransactionEncoder()\n",
    "te_ary = te.fit(shoppingLists).transform(shoppingLists)\n",
    "df_encode = pd.DataFrame(te_ary, columns=te.columns_)\n",
    "\n",
    "# Apply the Apriori algorithm to identify frequent patterns\n",
    "# Adjust the value of min_support to obtain an appropriate quantity of frequent itemsets.\n",
    "# In this grocery store scenario, we firstly identify approximately frequent itemsets as basesets.\n",
    "frequent_itemsets= apriori(df_encode, min_support=0.02, use_colnames=True)\n",
    "print(frequent_itemsets)"
   ]
  },
  {
   "cell_type": "code",
   "execution_count": 13,
   "id": "51e73243",
   "metadata": {},
   "outputs": [
    {
     "name": "stdout",
     "output_type": "stream",
     "text": [
      "      support                                  itemsets  length\n",
      "75   0.020145              (UHT-milk, other vegetables)       2\n",
      "76   0.022727                    (UHT-milk, whole milk)       2\n",
      "77   0.027893                  (beef, other vegetables)       2\n",
      "78   0.025826                        (rolls/buns, beef)       2\n",
      "79   0.021694                              (beef, soda)       2\n",
      "..        ...                                       ...     ...\n",
      "268  0.023502         (rolls/buns, sausage, whole milk)       3\n",
      "269  0.031250            (rolls/buns, whole milk, soda)       3\n",
      "270  0.020919  (rolls/buns, whole milk, tropical fruit)       3\n",
      "271  0.029442          (rolls/buns, whole milk, yogurt)       3\n",
      "272  0.025826                (whole milk, yogurt, soda)       3\n",
      "\n",
      "[198 rows x 3 columns]\n"
     ]
    }
   ],
   "source": [
    "#now need to only reserve itemsets which quatity more than one\n",
    "frequent_itemsets['length'] = frequent_itemsets['itemsets'].apply(lambda x: len(x))\n",
    "# we generate different itemsets with different min_support and the least amount of item\n",
    "frequent_itemsets_2 = frequent_itemsets[frequent_itemsets['length'] > 1]\n",
    "frequent_itemsets_2.to_csv('min_support_0.02/frequent_itemsets_GTE2.csv', index=False)\n",
    "frequent_itemsets_3 = frequent_itemsets[frequent_itemsets['length'] > 2]\n",
    "frequent_itemsets_3.to_csv('min_support_0.02/frequent_itemsets_GTE3.csv', index=False)\n",
    "\n",
    "print(frequent_itemsets_2)"
   ]
  },
  {
   "cell_type": "code",
   "execution_count": 14,
   "id": "8a1309a2",
   "metadata": {},
   "outputs": [],
   "source": [
    "# get different patterns based on different min support\n",
    "frequent_itemsets= apriori(df_encode, min_support=0.03, use_colnames=True)\n",
    "frequent_itemsets['length'] = frequent_itemsets['itemsets'].apply(lambda x: len(x))\n",
    "# we generate different itemsets with different min_support and the least amount of item\n",
    "frequent_itemsets_2 = frequent_itemsets[frequent_itemsets['length'] > 1]\n",
    "frequent_itemsets_2.to_csv('min_support_0.03/frequent_itemsets_GTE2.csv', index=False)\n",
    "frequent_itemsets_3 = frequent_itemsets[frequent_itemsets['length'] > 2]\n",
    "frequent_itemsets_3.to_csv('min_support_0.03/frequent_itemsets_GTE3.csv', index=False)\n",
    "\n",
    "frequent_itemsets= apriori(df_encode, min_support=0.04, use_colnames=True)\n",
    "frequent_itemsets['length'] = frequent_itemsets['itemsets'].apply(lambda x: len(x))\n",
    "# we generate different itemsets with different min_support and the least amount of item\n",
    "frequent_itemsets_2 = frequent_itemsets[frequent_itemsets['length'] > 1]\n",
    "frequent_itemsets_2.to_csv('min_support_0.04/frequent_itemsets_GTE2.csv', index=False)\n",
    "frequent_itemsets_3 = frequent_itemsets[frequent_itemsets['length'] > 2]\n",
    "frequent_itemsets_3.to_csv('min_support_0.04/frequent_itemsets_GTE3.csv', index=False)"
   ]
  },
  {
   "cell_type": "markdown",
   "id": "c2a139e6",
   "metadata": {},
   "source": [
    "### 2.2.2 Direct recommend based on patterns"
   ]
  },
  {
   "cell_type": "code",
   "execution_count": 15,
   "id": "1e978aaa",
   "metadata": {},
   "outputs": [
    {
     "name": "stdout",
     "output_type": "stream",
     "text": [
      "Top 10 frequent 2-itemsets:\n",
      "      support                                       itemsets  length\n",
      "124  0.112345  frozenset({'whole milk', 'other vegetables'})       2\n",
      "151  0.106147        frozenset({'rolls/buns', 'whole milk'})       2\n",
      "171  0.090393              frozenset({'whole milk', 'soda'})       2\n",
      "180  0.087293            frozenset({'whole milk', 'yogurt'})       2\n",
      "116  0.080837  frozenset({'rolls/buns', 'other vegetables'})       2\n",
      "120  0.072056        frozenset({'other vegetables', 'soda'})       2\n",
      "147  0.069473              frozenset({'rolls/buns', 'soda'})       2\n",
      "30   0.068698     frozenset({'bottled water', 'whole milk'})       2\n",
      "125  0.066116      frozenset({'yogurt', 'other vegetables'})       2\n",
      "152  0.063533            frozenset({'rolls/buns', 'yogurt'})       2\n",
      "\n",
      "Top 10 frequent 3-itemsets:\n",
      "     support                                           itemsets  length\n",
      "5   0.037448  frozenset({'rolls/buns', 'whole milk', 'other ...       3\n",
      "10  0.031767  frozenset({'other vegetables', 'whole milk', '...       3\n",
      "8   0.031508  frozenset({'whole milk', 'other vegetables', '...       3\n",
      "13  0.031250    frozenset({'rolls/buns', 'whole milk', 'soda'})       3\n",
      "15  0.029442  frozenset({'rolls/buns', 'whole milk', 'yogurt'})       3\n",
      "1   0.027634  frozenset({'bottled water', 'whole milk', 'oth...       3\n",
      "16  0.025826        frozenset({'whole milk', 'yogurt', 'soda'})       3\n",
      "4   0.024277  frozenset({'rolls/buns', 'other vegetables', '...       3\n",
      "7   0.024019  frozenset({'whole milk', 'sausage', 'other veg...       3\n",
      "12  0.023502  frozenset({'rolls/buns', 'sausage', 'whole mil...       3\n"
     ]
    }
   ],
   "source": [
    "import pandas as pd\n",
    "\n",
    "# Load the data\n",
    "df_gte2_002 = pd.read_csv('./min_support_0.02/frequent_itemsets_GTE2.csv')\n",
    "df_gte3_002 = pd.read_csv('./min_support_0.02/frequent_itemsets_GTE3.csv')\n",
    "\n",
    "# See the most frequent bought itesmset\n",
    "print(\"Top 10 frequent 2-itemsets:\")\n",
    "print(df_gte2_002.nlargest(10, 'support'))\n",
    "\n",
    "print(\"\\nTop 10 frequent 3-itemsets:\")\n",
    "print(df_gte3_002.nlargest(10, 'support'))"
   ]
  },
  {
   "cell_type": "code",
   "execution_count": 16,
   "id": "3e623608",
   "metadata": {},
   "outputs": [],
   "source": [
    "# read all the pattern files\n",
    "df_gte2_003 = pd.read_csv('./min_support_0.03/frequent_itemsets_GTE2.csv')\n",
    "df_gte3_003 = pd.read_csv('./min_support_0.03/frequent_itemsets_GTE3.csv')\n",
    "df_gte2_004 = pd.read_csv('./min_support_0.04/frequent_itemsets_GTE2.csv')\n",
    "df_gte3_004 = pd.read_csv('./min_support_0.04/frequent_itemsets_GTE3.csv')"
   ]
  },
  {
   "cell_type": "code",
   "execution_count": 17,
   "id": "d24b70db",
   "metadata": {},
   "outputs": [
    {
     "name": "stdout",
     "output_type": "stream",
     "text": [
      "Recommended items for member 3021: (['whole milk', 'other vegetables', 'rolls/buns', 'soda', 'yogurt', 'tropical fruit', 'sausage', 'root vegetables', 'pastry', 'pip fruit'], [0.068698347107438, 0.0547520661157024, 0.0444214876033057, 0.043646694214876, 0.0356404958677685, 0.0307334710743801, 0.0286673553719008, 0.0276342975206611, 0.0237603305785123, 0.0232438016528925])\n"
     ]
    }
   ],
   "source": [
    "# generate recommend based on the patterns and history record\n",
    "def recommend_items(member_number, df_gte2, df_gte3, transaction_data, k):\n",
    "    # Get the user's transactions\n",
    "    member_transactions = transaction_data[transaction_data['Member_number'] == member_number]\n",
    "    \n",
    "    # Get the items in the user's last 5 transactions\n",
    "    last_items = member_transactions.tail(5)['itemDescription'].unique()\n",
    "    \n",
    "    # Find frequent itemsets (both 2-itemsets and 3-itemsets) that contain these items\n",
    "    candidate_itemsets_2 = df_gte2[df_gte2['itemsets'].apply(lambda x: any(item in eval(x) for item in last_items))]\n",
    "    candidate_itemsets_3 = df_gte3[df_gte3['itemsets'].apply(lambda x: any(item in eval(x) for item in last_items))]\n",
    "\n",
    "    # Combine the itemsets and sort by support\n",
    "    candidate_itemsets = pd.concat([candidate_itemsets_2, candidate_itemsets_3])\n",
    "    recommended_itemsets = candidate_itemsets.sort_values(by='support', ascending=False)\n",
    "    \n",
    "    # Get the items in these itemsets, excluding items the user has just bought\n",
    "    recommended_items = {}\n",
    "    for _, row in recommended_itemsets.iterrows():\n",
    "        items = eval(row['itemsets'])\n",
    "        for item in items:\n",
    "            if item not in last_items:\n",
    "                if item in recommended_items:\n",
    "                    recommended_items[item] = max(recommended_items[item], row['support'])\n",
    "                else:\n",
    "                    recommended_items[item] = row['support']\n",
    "\n",
    "    # Return the top k recommended items and their scores\n",
    "    sorted_items = sorted(recommended_items.items(), key=lambda item: item[1], reverse=True)\n",
    "    return [item[0] for item in sorted_items[:k]], [item[1] for item in sorted_items[:k]]\n",
    "\n",
    "# Load the transaction data\n",
    "transaction_data = pd.read_csv('Groceries data train.csv')\n",
    "\n",
    "# Test the function\n",
    "member_number = 3021  # replace with actual member number\n",
    "recommendations = recommend_items(member_number, df_gte2_002, df_gte3_002, transaction_data,10)\n",
    "print(f\"Recommended items for member {member_number}: {recommendations}\")\n"
   ]
  },
  {
   "cell_type": "markdown",
   "id": "feecadb5",
   "metadata": {},
   "source": [
    "### 2.2.3 Evaluation"
   ]
  },
  {
   "cell_type": "code",
   "execution_count": 18,
   "id": "14dc32e8",
   "metadata": {},
   "outputs": [],
   "source": [
    "# define helper functions to calculate the precision at k\n",
    "def precision_at_k_pattern(test_data, recommend_function, df_gte2, df_gte3, k):\n",
    "    hits = 0\n",
    "    total = 0\n",
    "    for user in test_data['Member_number'].unique():\n",
    "        actual_items = set(test_data[test_data['Member_number'] == user]['itemDescription'])\n",
    "        recommended_items = set(recommend_function(user, df_gte2, df_gte3, train_data, k))\n",
    "        hits += len(actual_items & recommended_items)\n",
    "        total += k\n",
    "    return hits / total\n",
    "\n",
    "# define helper functions to calculate the recall at k\n",
    "def recall_at_k_pattern(test_data, recommend_function, df_gte2, df_gte3, k):\n",
    "    hits = 0\n",
    "    total = 0\n",
    "    for user in test_data['Member_number'].unique():\n",
    "        actual_items = set(test_data[test_data['Member_number'] == user]['itemDescription'])\n",
    "        recommended_items = set(recommend_function(user, df_gte2, df_gte3, train_data, k))\n",
    "        hits += len(actual_items & recommended_items)\n",
    "        total += len(actual_items)\n",
    "    return hits / total\n",
    "\n",
    "# define helper functions to calculate the coverage\n",
    "def coverage_pattern(test_data, recommend_function, df_gte2, df_gte3, k):\n",
    "    recommended_items = set()\n",
    "    for user in test_data['Member_number'].unique():\n",
    "        recommended_items.update(recommend_function(user, df_gte2, df_gte3, train_data, k))\n",
    "    return len(recommended_items) / len(all_items)\n"
   ]
  },
  {
   "cell_type": "code",
   "execution_count": 90,
   "id": "1f6765b8",
   "metadata": {},
   "outputs": [],
   "source": [
    "# Load the test data\n",
    "test_data = pd.read_csv('Groceries data test.csv')\n",
    "\n",
    "# Define the list of frequent itemsets\n",
    "frequent_itemsets = [(df_gte2_002, df_gte3_002), (df_gte2_003, df_gte3_003), (df_gte2_004, df_gte3_004)]\n",
    "\n",
    "# Define a function to calculate the metrics for a given set of frequent itemsets\n",
    "def calculate_pattern_metrics(test_data, df_gte2, df_gte3):\n",
    "    # Define a function to recommend items based on the frequent itemsets\n",
    "    def recommend_pattern(member_number, k):\n",
    "        return recommend_items(member_number, df_gte2, df_gte3, transaction_data, k)\n",
    "\n",
    "    # Calculate the metrics\n",
    "    precision = precision_at_k(test_data, recommend_pattern, 10)\n",
    "    recall = recall_at_k(test_data, recommend_pattern, 10)\n",
    "    cov = coverage(test_data, recommend_pattern, 10)\n",
    "\n",
    "    # Return the metrics\n",
    "    return {'Precision@10': precision, 'Recall@10': recall, 'Coverage@10': cov}"
   ]
  },
  {
   "cell_type": "code",
   "execution_count": 91,
   "id": "1a7b9a24",
   "metadata": {},
   "outputs": [
    {
     "name": "stdout",
     "output_type": "stream",
     "text": [
      "\n",
      "Pattern mining recommendation (min_support=0.02):\n",
      "Precision@10: 0.09727986539540101\n",
      "Recall@10: 0.3046188970846505\n",
      "Coverage@10: 0.10778443113772455\n",
      "\n",
      "Pattern mining recommendation (min_support=0.03):\n",
      "Precision@10: 0.08634324172742569\n",
      "Recall@10: 0.27037232174218473\n",
      "Coverage@10: 0.10179640718562874\n",
      "\n",
      "Pattern mining recommendation (min_support=0.04):\n",
      "Precision@10: 0.07470555243970836\n",
      "Recall@10: 0.2339304531085353\n",
      "Coverage@10: 0.09580838323353294\n"
     ]
    }
   ],
   "source": [
    "# Calculate the metrics for each set of frequent itemsets\n",
    "for i, (df_gte2, df_gte3) in enumerate(frequent_itemsets):\n",
    "    print(f'\\nPattern mining recommendation on test data (min_support={0.02 + i * 0.01}):')\n",
    "    metrics = calculate_pattern_metrics(test_data, df_gte2, df_gte3)\n",
    "    print('Precision@10:', metrics['Precision@10'])\n",
    "    print('Recall@10:', metrics['Recall@10'])\n",
    "    print('Coverage@10:', metrics['Coverage@10'])\n",
    "    # Add to the metrics data\n",
    "    metrics_data.append((f'Pattern_Mining_{0.02 + i * 0.01}_test', metrics))\n",
    "\n",
    "# At the end, convert the list to DataFrame and save to CSV\n",
    "df_metrics = pd.DataFrame.from_records(metrics_data, columns=['method', 'metrics'])\n",
    "df_metrics = pd.concat([df_metrics['method'], df_metrics['metrics'].apply(pd.Series)], axis=1)\n",
    "df_metrics.to_csv('metrics.csv', index=False)"
   ]
  },
  {
   "cell_type": "code",
   "execution_count": null,
   "id": "671bdda1",
   "metadata": {},
   "outputs": [],
   "source": [
    "# Load the train data\n",
    "test_data = pd.read_csv('Groceries data train.csv')\n",
    "\n",
    "# Calculate the metrics for each set of frequent itemsets\n",
    "for i, (df_gte2, df_gte3) in enumerate(frequent_itemsets):\n",
    "    print(f'\\nPattern mining recommendation on test data (min_support={0.02 + i * 0.01}):')\n",
    "    metrics = calculate_pattern_metrics(train_data, df_gte2, df_gte3)\n",
    "    print('Precision@10:', metrics['Precision@10'])\n",
    "    print('Recall@10:', metrics['Recall@10'])\n",
    "    print('Coverage@10:', metrics['Coverage@10'])\n",
    "    # Add to the metrics data\n",
    "    metrics_data.append((f'Pattern_Mining_{0.02 + i * 0.01}_train', metrics))\n",
    "\n",
    "# At the end, convert the list to DataFrame and save to CSV\n",
    "df_metrics = pd.DataFrame.from_records(metrics_data, columns=['method', 'metrics'])\n",
    "df_metrics = pd.concat([df_metrics['method'], df_metrics['metrics'].apply(pd.Series)], axis=1)\n",
    "df_metrics.to_csv('metrics.csv', index=False)"
   ]
  },
  {
   "cell_type": "markdown",
   "id": "6b3ae1fc",
   "metadata": {},
   "source": [
    "From the results, it's apparent that as the minimum support increases, the precision, recall, and coverage decrease. This is expected because higher support values mean that we're considering more frequent itemsets for recommendations, which can reduce the chance of recommending items that the user is interested in. Also, higher support values can lead to fewer unique items in the recommendations, reducing the coverage."
   ]
  },
  {
   "cell_type": "markdown",
   "id": "9636506e",
   "metadata": {},
   "source": [
    "## 2.3 Recommendation Based On Association Rules"
   ]
  },
  {
   "cell_type": "markdown",
   "id": "cba9bb2f",
   "metadata": {},
   "source": [
    "### 2.3.1 Pattern Mining"
   ]
  },
  {
   "cell_type": "code",
   "execution_count": 92,
   "id": "5ccfb5f0",
   "metadata": {},
   "outputs": [],
   "source": [
    "import pandas as pd\n",
    "from mlxtend.preprocessing import TransactionEncoder\n",
    "from mlxtend.frequent_patterns import apriori, association_rules\n",
    "\n",
    "# Read data\n",
    "df = pd.read_csv('Groceries data train.csv')\n",
    "\n",
    "# Group by member number, and merge all item descriptions purchased by one member together\n",
    "shoppingLists = df.groupby(['Member_number'])['itemDescription'].apply(list)\n",
    "shoppingLists = shoppingLists.values.tolist()\n",
    "\n",
    "# encode df to pandas DataFrame\n",
    "te = TransactionEncoder()\n",
    "te_ary = te.fit(shoppingLists).transform(shoppingLists)\n",
    "df_encode = pd.DataFrame(te_ary, columns=te.columns_)\n",
    "\n",
    "# Get frequent itemsets with a minimum support of 0.02\n",
    "frequent_itemsets = apriori(df_encode, min_support=0.02, use_colnames=True)\n"
   ]
  },
  {
   "cell_type": "markdown",
   "id": "a03e8c84",
   "metadata": {},
   "source": [
    "### 2.3.2 Association Rules generation"
   ]
  },
  {
   "cell_type": "code",
   "execution_count": 93,
   "id": "54decba5",
   "metadata": {},
   "outputs": [
    {
     "name": "stdout",
     "output_type": "stream",
     "text": [
      "           antecedents               consequents  antecedent support  \\\n",
      "0           (UHT-milk)        (other vegetables)            0.052686   \n",
      "1   (other vegetables)                (UHT-milk)            0.284866   \n",
      "2             (pastry)            (bottled beer)            0.130424   \n",
      "3       (bottled beer)                  (pastry)            0.118285   \n",
      "4       (bottled beer)               (pip fruit)            0.118285   \n",
      "..                 ...                       ...                 ...   \n",
      "73            (yogurt)  (rolls/buns, whole milk)            0.205837   \n",
      "74      (soda, yogurt)              (whole milk)            0.056302   \n",
      "75  (soda, whole milk)                  (yogurt)            0.090393   \n",
      "76            (yogurt)        (soda, whole milk)            0.205837   \n",
      "77        (whole milk)            (soda, yogurt)            0.347366   \n",
      "\n",
      "    consequent support   support  confidence      lift  leverage  conviction  \\\n",
      "0             0.284866  0.020145    0.382353  1.342222  0.005136    1.157836   \n",
      "1             0.052686  0.020145    0.070716  1.342222  0.005136    1.019402   \n",
      "2             0.118285  0.020145    0.154455  1.305789  0.004717    1.042778   \n",
      "3             0.130424  0.020145    0.170306  1.305789  0.004717    1.048068   \n",
      "4             0.120351  0.020661    0.174672  1.451356  0.006425    1.065818   \n",
      "..                 ...       ...         ...       ...       ...         ...   \n",
      "73            0.106147  0.029442    0.143036  1.347535  0.007593    1.043047   \n",
      "74            0.347366  0.025826    0.458716  1.320555  0.006269    1.205714   \n",
      "75            0.205837  0.025826    0.285714  1.388062  0.007220    1.111829   \n",
      "76            0.090393  0.025826    0.125471  1.388062  0.007220    1.040111   \n",
      "77            0.056302  0.025826    0.074349  1.320555  0.006269    1.019497   \n",
      "\n",
      "    zhangs_metric  \n",
      "0        0.269147  \n",
      "1        0.356530  \n",
      "2        0.269303  \n",
      "3        0.265596  \n",
      "4        0.352709  \n",
      "..            ...  \n",
      "73       0.324750  \n",
      "74       0.257225  \n",
      "75       0.307354  \n",
      "76       0.352033  \n",
      "77       0.371943  \n",
      "\n",
      "[78 rows x 10 columns]\n"
     ]
    }
   ],
   "source": [
    "# get rules based on lift and write into csv file\n",
    "rules_lift = association_rules(frequent_itemsets, metric=\"lift\", min_threshold=1.3)\n",
    "print(rules_lift)\n",
    "rules_lift.to_csv(\"rules_lift_1.3.csv\", index=False)"
   ]
  },
  {
   "cell_type": "code",
   "execution_count": 94,
   "id": "58edafa1",
   "metadata": {},
   "outputs": [
    {
     "name": "stdout",
     "output_type": "stream",
     "text": [
      "Rules based on support(threshold 0.04)\n",
      "             antecedents           consequents  antecedent support  \\\n",
      "0         (bottled beer)          (whole milk)            0.118285   \n",
      "1           (whole milk)        (bottled beer)            0.347366   \n",
      "2        (bottled water)    (other vegetables)            0.159866   \n",
      "3     (other vegetables)       (bottled water)            0.284866   \n",
      "4        (bottled water)          (rolls/buns)            0.159866   \n",
      "..                   ...                   ...                 ...   \n",
      "79          (whole milk)      (tropical fruit)            0.347366   \n",
      "80  (whipped/sour cream)          (whole milk)            0.113636   \n",
      "81          (whole milk)  (whipped/sour cream)            0.347366   \n",
      "82              (yogurt)          (whole milk)            0.205837   \n",
      "83          (whole milk)              (yogurt)            0.347366   \n",
      "\n",
      "    consequent support   support  confidence      lift  leverage  conviction  \\\n",
      "0             0.347366  0.051136    0.432314  1.244551  0.010048    1.149640   \n",
      "1             0.118285  0.051136    0.147212  1.244551  0.010048    1.033920   \n",
      "2             0.284866  0.054752    0.342488  1.202278  0.009212    1.087637   \n",
      "3             0.159866  0.054752    0.192203  1.202278  0.009212    1.040032   \n",
      "4             0.263171  0.044421    0.277868  1.055842  0.002349    1.020351   \n",
      "..                 ...       ...         ...       ...       ...         ...   \n",
      "79            0.162190  0.062242    0.179182  1.104766  0.005902    1.020701   \n",
      "80            0.347366  0.048812    0.429545  1.236580  0.009339    1.144060   \n",
      "81            0.113636  0.048812    0.140520  1.236580  0.009339    1.031279   \n",
      "82            0.347366  0.087293    0.424090  1.220876  0.015793    1.133223   \n",
      "83            0.205837  0.087293    0.251301  1.220876  0.015793    1.060724   \n",
      "\n",
      "    zhangs_metric  \n",
      "0        0.222858  \n",
      "1        0.301084  \n",
      "2        0.200261  \n",
      "3        0.235265  \n",
      "4        0.062953  \n",
      "..            ...  \n",
      "79       0.145305  \n",
      "80       0.215846  \n",
      "81       0.293147  \n",
      "82       0.227807  \n",
      "83       0.277209  \n",
      "\n",
      "[84 rows x 10 columns]\n"
     ]
    }
   ],
   "source": [
    "# Generate rules based on support\n",
    "rules_support=association_rules(frequent_itemsets, metric=\"support\", min_threshold=0.04)\n",
    "rules_support.to_csv(\"rule_support_0.04.csv\", index=False)\n",
    "print(\"Rules based on support(threshold 0.04)\")\n",
    "print(rules_support)"
   ]
  },
  {
   "cell_type": "code",
   "execution_count": 95,
   "id": "b3363be2",
   "metadata": {},
   "outputs": [
    {
     "name": "stdout",
     "output_type": "stream",
     "text": [
      "Rules based on confidence(threshold 0.35)\n",
      "                     antecedents         consequents  antecedent support  \\\n",
      "0                     (UHT-milk)  (other vegetables)            0.052686   \n",
      "1                     (UHT-milk)        (whole milk)            0.052686   \n",
      "2                         (beef)        (whole milk)            0.090134   \n",
      "3                      (berries)        (whole milk)            0.057335   \n",
      "4                 (bottled beer)        (whole milk)            0.118285   \n",
      "..                           ...                 ...                 ...   \n",
      "58         (sausage, rolls/buns)        (whole milk)            0.046746   \n",
      "59            (soda, rolls/buns)        (whole milk)            0.069473   \n",
      "60  (rolls/buns, tropical fruit)        (whole milk)            0.047004   \n",
      "61          (rolls/buns, yogurt)        (whole milk)            0.063533   \n",
      "62                (soda, yogurt)        (whole milk)            0.056302   \n",
      "\n",
      "    consequent support   support  confidence      lift  leverage  conviction  \\\n",
      "0             0.284866  0.020145    0.382353  1.342222  0.005136    1.157836   \n",
      "1             0.347366  0.022727    0.431373  1.241840  0.004426    1.147736   \n",
      "2             0.347366  0.037448    0.415473  1.196067  0.006139    1.116517   \n",
      "3             0.347366  0.023244    0.405405  1.167085  0.003328    1.097612   \n",
      "4             0.347366  0.051136    0.432314  1.244551  0.010048    1.149640   \n",
      "..                 ...       ...         ...       ...       ...         ...   \n",
      "58            0.347366  0.023502    0.502762  1.447358  0.007264    1.312520   \n",
      "59            0.347366  0.031250    0.449814  1.294930  0.007117    1.186207   \n",
      "60            0.347366  0.020919    0.445055  1.281229  0.004592    1.176034   \n",
      "61            0.347366  0.029442    0.463415  1.334083  0.007373    1.216273   \n",
      "62            0.347366  0.025826    0.458716  1.320555  0.006269    1.205714   \n",
      "\n",
      "    zhangs_metric  \n",
      "0        0.269147  \n",
      "1        0.205574  \n",
      "2        0.180166  \n",
      "3        0.151872  \n",
      "4        0.222858  \n",
      "..            ...  \n",
      "58       0.324243  \n",
      "59       0.244762  \n",
      "60       0.230326  \n",
      "61       0.267411  \n",
      "62       0.257225  \n",
      "\n",
      "[63 rows x 10 columns]\n"
     ]
    }
   ],
   "source": [
    "# Generate rules based on confidence\n",
    "rules_confidence=association_rules(frequent_itemsets, metric=\"confidence\", min_threshold=0.35)\n",
    "rules_confidence.to_csv(\"rule_confidence_0.35.csv\", index=False)\n",
    "print(\"Rules based on confidence(threshold 0.35)\")\n",
    "print(rules_confidence)"
   ]
  },
  {
   "cell_type": "markdown",
   "id": "a78f61c5",
   "metadata": {},
   "source": [
    "### 2.3.3 Recommendation Implementation"
   ]
  },
  {
   "cell_type": "code",
   "execution_count": 96,
   "id": "48578673",
   "metadata": {},
   "outputs": [],
   "source": [
    "def recommend_ar_lift(member_number, top_n=10):\n",
    "     # Check if member_number exists in the data\n",
    "    if member_number not in df['Member_number'].unique():\n",
    "        # If not, return the top-N most common items\n",
    "        most_common_items = df['itemDescription'].value_counts().index[:top_n].tolist()\n",
    "        return most_common_items, [None]*top_n\n",
    "    \n",
    "    # Filter the rules based on the items bought by the member\n",
    "    member_items = set(df[df['Member_number'] == member_number]['itemDescription'].unique())\n",
    "    rules_lift = association_rules(frequent_itemsets, metric=\"lift\", min_threshold=1.3)\n",
    "    rules_lift = rules_lift[rules_lift['antecedents'].apply(lambda x: any(item in set(x) for item in member_items))]\n",
    "    \n",
    "    # Sort the rules by lift value\n",
    "    rules_lift.sort_values('lift', ascending = False, inplace = True)\n",
    "    \n",
    "    # Get the top_n items with highest lift value\n",
    "    recommendations = rules_lift['consequents'].head(top_n)\n",
    "    \n",
    "    # Also get their corresponding lift values\n",
    "    scores = rules_lift['lift'].head(top_n)\n",
    "    \n",
    "    # Convert frozensets in 'recommendations' to list of strings\n",
    "    recommendations = [list(x)[0] for x in recommendations]\n",
    "    \n",
    "    return recommendations, scores\n",
    "\n",
    "\n",
    "def recommend_ar_support(member_number, top_n=10):\n",
    "     # Check if member_number exists in the data\n",
    "    if member_number not in df['Member_number'].unique():\n",
    "        # If not, return the top-N most common items\n",
    "        most_common_items = df['itemDescription'].value_counts().index[:top_n].tolist()\n",
    "        return most_common_items, [None]*top_n\n",
    "    # Filter the rules based on the items bought by the member\n",
    "    member_items = set(df[df['Member_number'] == member_number]['itemDescription'].unique())\n",
    "    rules_support=association_rules(frequent_itemsets, metric=\"support\", min_threshold=0.04)\n",
    "    rules_support = rules_support[rules_support['antecedents'].apply(lambda x: any(item in set(x) for item in member_items))]\n",
    "    \n",
    "    # Sort the rules by support value\n",
    "    rules_support.sort_values('support', ascending = False, inplace = True)\n",
    "    \n",
    "    # Get the top_n items with highest support value\n",
    "    recommendations = rules_support['consequents'].head(top_n)\n",
    "    \n",
    "    # Also get their corresponding support values\n",
    "    scores = rules_support['support'].head(top_n)\n",
    "    \n",
    "    # Convert frozensets in 'recommendations' to list of strings\n",
    "    recommendations = [list(x)[0] for x in recommendations]\n",
    "    \n",
    "    return recommendations, scores\n",
    "\n",
    "def recommend_ar_confidence(member_number, top_n=10):\n",
    "     # Check if member_number exists in the data\n",
    "    if member_number not in df['Member_number'].unique():\n",
    "        # If not, return the top-N most common items\n",
    "        most_common_items = df['itemDescription'].value_counts().index[:top_n].tolist()\n",
    "        return most_common_items, [None]*top_n\n",
    "    \n",
    "    # Filter the rules based on the items bought by the member\n",
    "    member_items = set(df[df['Member_number'] == member_number]['itemDescription'].unique())\n",
    "    rules_confidence=association_rules(frequent_itemsets, metric=\"confidence\", min_threshold=0.35)\n",
    "    rules_confidence = rules_confidence[rules_confidence['antecedents'].apply(lambda x: any(item in set(x) for item in member_items))]\n",
    "    \n",
    "    # Sort the rules by confidence value\n",
    "    rules_confidence.sort_values('confidence', ascending = False, inplace = True)\n",
    "    \n",
    "    # Get the top_n items with highest confidence value\n",
    "    recommendations = rules_confidence['consequents'].head(top_n)\n",
    "    \n",
    "    # Also get their corresponding confidence values\n",
    "    scores = rules_confidence['confidence'].head(top_n)\n",
    "    \n",
    "    # Convert frozensets in 'recommendations' to list of strings\n",
    "    recommendations = [list(x)[0] for x in recommendations]\n",
    "    \n",
    "    return recommendations, scores\n"
   ]
  },
  {
   "cell_type": "code",
   "execution_count": 97,
   "id": "95ce9086",
   "metadata": {},
   "outputs": [
    {
     "name": "stdout",
     "output_type": "stream",
     "text": [
      "Recommendations based on Lift:\n",
      "(['whole milk', 'bottled beer', 'bottled water', 'bottled beer', 'sausage', 'rolls/buns', 'whole milk', 'bottled water', 'sausage', 'sausage'], 34    1.557712\n",
      "39    1.557712\n",
      "41    1.538648\n",
      "35    1.535351\n",
      "63    1.493561\n",
      "62    1.465179\n",
      "40    1.452984\n",
      "45    1.452984\n",
      "65    1.447358\n",
      "54    1.442172\n",
      "Name: lift, dtype: float64)\n",
      "Recommendations based on Support:\n",
      "(['other vegetables', 'whole milk', 'rolls/buns', 'soda', 'whole milk', 'yogurt', 'whole milk', 'rolls/buns', 'other vegetables', 'soda'], 39    0.112345\n",
      "38    0.112345\n",
      "56    0.106147\n",
      "75    0.090393\n",
      "74    0.090393\n",
      "83    0.087293\n",
      "82    0.087293\n",
      "26    0.080837\n",
      "34    0.072056\n",
      "35    0.072056\n",
      "Name: support, dtype: float64)\n",
      "Recommendations based on Confidence:\n",
      "(['whole milk', 'whole milk', 'whole milk', 'whole milk', 'whole milk', 'whole milk', 'whole milk', 'whole milk', 'whole milk', 'whole milk'], 42    0.541096\n",
      "44    0.504717\n",
      "54    0.480469\n",
      "47    0.467456\n",
      "61    0.463415\n",
      "48    0.463259\n",
      "62    0.458716\n",
      "59    0.449814\n",
      "50    0.447115\n",
      "52    0.437276\n",
      "Name: confidence, dtype: float64)\n"
     ]
    }
   ],
   "source": [
    "# read the test data\n",
    "test_data = pd.read_csv('Groceries data test.csv')\n",
    "\n",
    "# Select a member number from test data for demonstration\n",
    "member_number = test_data.iloc[0]['Member_number']\n",
    "\n",
    "# test the three methods\n",
    "print(\"Recommendations based on Lift:\")\n",
    "print(recommend_ar_lift(member_number))\n",
    "\n",
    "print(\"Recommendations based on Support:\")\n",
    "print(recommend_ar_support(member_number))\n",
    "\n",
    "print(\"Recommendations based on Confidence:\")\n",
    "print(recommend_ar_confidence(member_number))"
   ]
  },
  {
   "cell_type": "markdown",
   "id": "bff75e58",
   "metadata": {},
   "source": [
    "### 2.3.4 Recommendation Evaluation"
   ]
  },
  {
   "cell_type": "code",
   "execution_count": 98,
   "id": "8e36d9d7",
   "metadata": {},
   "outputs": [],
   "source": [
    "# prepare the test data\n",
    "test_data = pd.read_csv('Groceries data test.csv')\n",
    "test_shoppingLists = test_data.groupby(['Member_number'])['itemDescription'].apply(list)\n",
    "test_members = test_data['Member_number'].unique()\n",
    "\n",
    "# Define the evaluation function\n",
    "def evaluate_method(recommend_func, k=10):\n",
    "    hits = 0\n",
    "    total_predicted = 0\n",
    "    total_actual = 0\n",
    "    all_recommended = set()\n",
    "\n",
    "    for i, user in enumerate(test_shoppingLists):\n",
    "        actual_items = set(user)\n",
    "        member_number = test_members[i]\n",
    "        recommended_items, _ = recommend_func(member_number, k)\n",
    "\n",
    "        hits += len(set(recommended_items) & actual_items)\n",
    "        total_predicted += len(recommended_items)\n",
    "        total_actual += len(actual_items)\n",
    "        all_recommended.update(recommended_items)\n",
    "\n",
    "    precision = hits / total_predicted if total_predicted > 0 else 0\n",
    "    recall = hits / total_actual if total_actual > 0 else 0\n",
    "    coverage = len(all_recommended) / df['itemDescription'].nunique()\n",
    "\n",
    "    return precision, recall, coverage\n"
   ]
  },
  {
   "cell_type": "code",
   "execution_count": 99,
   "id": "adb6543e",
   "metadata": {},
   "outputs": [
    {
     "name": "stdout",
     "output_type": "stream",
     "text": [
      "          method  Precision@10  Recall@10  Coverage@10\n",
      "0        AR_Lift      0.060601   0.160432     0.125749\n",
      "1     AR_Support      0.089491   0.235687     0.071856\n",
      "2  AR_Confidence      0.033113   0.087197     0.059880\n"
     ]
    }
   ],
   "source": [
    "# Compute metrics for each method\n",
    "metrics = pd.DataFrame(columns=['method', 'Precision@10', 'Recall@10', 'Coverage@10'])\n",
    "methods = [recommend_ar_lift, recommend_ar_support, recommend_ar_confidence]\n",
    "method_names = ['AR_Lift', 'AR_Support', 'AR_Confidence']\n",
    "\n",
    "for i in range(3):\n",
    "    precision, recall, coverage = evaluate_method(methods[i], k=10)\n",
    "    metrics.loc[i] = [method_names[i], precision, recall, coverage]\n",
    "\n",
    "print(metrics)\n",
    "\n",
    "# Read existing metrics file\n",
    "existing_metrics = pd.read_csv('metrics.csv')\n",
    "\n",
    "# Append new metrics\n",
    "all_metrics = pd.concat([existing_metrics, metrics])\n",
    "\n",
    "# Save to csv\n",
    "all_metrics.to_csv('metrics.csv', index=False)"
   ]
  },
  {
   "cell_type": "markdown",
   "id": "3afd8d2e",
   "metadata": {},
   "source": [
    "Recommendation function based on support has the highest precision and recall, while the function based on lift has the highest coverage.\n",
    "\n",
    "This implies that the function based on support is more likely to recommend relevant items to the user, but the function based on lift can recommend a wider variety of items."
   ]
  },
  {
   "cell_type": "markdown",
   "id": "da369fac",
   "metadata": {},
   "source": [
    "## 2.4 Recommendation Combining Association Rules and Collaborative Filtering"
   ]
  },
  {
   "cell_type": "markdown",
   "id": "0c72c25e",
   "metadata": {},
   "source": [
    "### 2.4.1 Combining Association Rules(Support) and Collaborativ Filtering (Item Similarity) "
   ]
  },
  {
   "cell_type": "code",
   "execution_count": 111,
   "id": "66508053",
   "metadata": {},
   "outputs": [],
   "source": [
    "from sklearn.preprocessing import MinMaxScaler\n",
    "import numpy as np\n",
    "\n",
    "def hybrid_item_ar_support(member_number, top_n=10):\n",
    "    # Get recommendations from both methods\n",
    "    cf_items, cf_scores = recommend_on_item_similarity(member_number, top_n)\n",
    "    ar_items, ar_scores = recommend_ar_support(member_number, top_n)\n",
    "    \n",
    "    # Initialize a MinMaxScaler\n",
    "    scaler = MinMaxScaler()\n",
    "    \n",
    "    # Reshape the scores to fit the scaler's expected input shape\n",
    "    cf_scores = np.array(cf_scores).reshape(-1, 1)\n",
    "    ar_scores = np.array(ar_scores).reshape(-1, 1)\n",
    "    \n",
    "    # Fit the scaler to the scores and transform them if scores are not empty\n",
    "    cf_scores = scaler.fit_transform(cf_scores).flatten() if cf_scores.size > 0 else cf_scores\n",
    "    ar_scores = scaler.fit_transform(ar_scores).flatten() if ar_scores.size > 0 else ar_scores\n",
    "    \n",
    "    # Initialize a dictionary to hold the combined scores\n",
    "    combined_scores = {}\n",
    "    \n",
    "    # Add scores from collaborative filtering method\n",
    "    for item, score in zip(cf_items, cf_scores):\n",
    "        if score is not None:  # Exclude items recommended when user not in training data\n",
    "            combined_scores[item] = score\n",
    "            \n",
    "    # Add scores from association rules method, or add to existing scores if already present\n",
    "    for item, score in zip(ar_items, ar_scores):\n",
    "        if score is not None:  # Exclude items recommended when user not in training data\n",
    "            if item in combined_scores:\n",
    "                combined_scores[item] += score\n",
    "            else:\n",
    "                combined_scores[item] = score\n",
    "                \n",
    "    # Sort items by their combined scores\n",
    "    sorted_items = sorted(combined_scores.items(), key=lambda x: x[1], reverse=True)\n",
    "    \n",
    "    # Get the top_n items with highest combined scores\n",
    "    recommendations = [item for item, score in sorted_items[:top_n]]\n",
    "    scores = [score for item, score in sorted_items[:top_n]]\n",
    "    \n",
    "    return recommendations, scores\n"
   ]
  },
  {
   "cell_type": "code",
   "execution_count": 112,
   "id": "d2fe48db",
   "metadata": {},
   "outputs": [
    {
     "data": {
      "text/plain": [
       "(['rolls/buns',\n",
       "  'whole milk',\n",
       "  'other vegetables',\n",
       "  'soda',\n",
       "  'bottled water',\n",
       "  'root vegetables',\n",
       "  'yogurt',\n",
       "  'tropical fruit',\n",
       "  'sausage',\n",
       "  'shopping bags'],\n",
       " [2.0641025641025643,\n",
       "  1.8333333333333335,\n",
       "  1.0,\n",
       "  0.4551282051282053,\n",
       "  0.41715819530434883,\n",
       "  0.4106684036230379,\n",
       "  0.3782051282051282,\n",
       "  0.33538746466842007,\n",
       "  0.3266886994224918,\n",
       "  0.07116409506938348])"
      ]
     },
     "execution_count": 112,
     "metadata": {},
     "output_type": "execute_result"
    }
   ],
   "source": [
    "# read the test data\n",
    "test_data = pd.read_csv('Groceries data test.csv')\n",
    "\n",
    "# Select a member number from test data for demonstration\n",
    "member_number = test_data.iloc[0]['Member_number']\n",
    "\n",
    "# test the function\n",
    "hybrid_item_ar_support(member_number)"
   ]
  },
  {
   "cell_type": "markdown",
   "id": "07bed9ec",
   "metadata": {},
   "source": [
    "### 2.4.2 Combining Association Rules(Support) and Collaborativ Filtering (Item Similarity) "
   ]
  },
  {
   "cell_type": "code",
   "execution_count": 113,
   "id": "18770407",
   "metadata": {},
   "outputs": [],
   "source": [
    "# define a hybrid function to combine user similarity recommendation and association rules recommendation\n",
    "def hybrid_user_ar_support(member_number, top_n=10):\n",
    "    # Get recommendations from both methods\n",
    "    cf_items, cf_scores = recommend_on_user_similarity(member_number, top_n)\n",
    "    ar_items, ar_scores = recommend_ar_support(member_number, top_n)\n",
    "    \n",
    "    # Initialize a MinMaxScaler\n",
    "    scaler = MinMaxScaler()\n",
    "    \n",
    "    # Reshape the scores to fit the scaler's expected input shape\n",
    "    cf_scores = np.array(cf_scores).reshape(-1, 1)\n",
    "    ar_scores = np.array(ar_scores).reshape(-1, 1)\n",
    "    \n",
    "    # Fit the scaler to the scores and transform them if scores are not empty\n",
    "    cf_scores = scaler.fit_transform(cf_scores).flatten() if cf_scores.size > 0 else cf_scores\n",
    "    ar_scores = scaler.fit_transform(ar_scores).flatten() if ar_scores.size > 0 else ar_scores\n",
    "    \n",
    "    # Initialize a dictionary to hold the combined scores\n",
    "    combined_scores = {}\n",
    "    \n",
    "    # Add scores from collaborative filtering method\n",
    "    for item, score in zip(cf_items, cf_scores):\n",
    "        if score is not None:  # Exclude items recommended when user not in training data\n",
    "            combined_scores[item] = score\n",
    "            \n",
    "    # Add scores from association rules method, or add to existing scores if already present\n",
    "    for item, score in zip(ar_items, ar_scores):\n",
    "        if score is not None:  # Exclude items recommended when user not in training data\n",
    "            if item in combined_scores:\n",
    "                combined_scores[item] += score\n",
    "            else:\n",
    "                combined_scores[item] = score\n",
    "                \n",
    "    # Sort items by their combined scores\n",
    "    sorted_items = sorted(combined_scores.items(), key=lambda x: x[1], reverse=True)\n",
    "    \n",
    "    # Get the top_n items with highest combined scores\n",
    "    recommendations = [item for item, score in sorted_items[:top_n]]\n",
    "    scores = [score for item, score in sorted_items[:top_n]]\n",
    "    \n",
    "    return recommendations, scores\n"
   ]
  },
  {
   "cell_type": "code",
   "execution_count": 114,
   "id": "7a172fd1",
   "metadata": {},
   "outputs": [
    {
     "data": {
      "text/plain": [
       "(['other vegetables',\n",
       "  'whole milk',\n",
       "  'rolls/buns',\n",
       "  'soda',\n",
       "  'yogurt',\n",
       "  'sausage',\n",
       "  'butter',\n",
       "  'beef',\n",
       "  'frozen fish'],\n",
       " [2.0,\n",
       "  1.8333333333333335,\n",
       "  1.0641025641025643,\n",
       "  0.4551282051282053,\n",
       "  0.3782051282051282,\n",
       "  0.0,\n",
       "  0.0,\n",
       "  0.0,\n",
       "  0.0])"
      ]
     },
     "execution_count": 114,
     "metadata": {},
     "output_type": "execute_result"
    }
   ],
   "source": [
    "# read the test data\n",
    "test_data = pd.read_csv('Groceries data test.csv')\n",
    "\n",
    "# Select a member number from test data for demonstration\n",
    "member_number = test_data.iloc[0]['Member_number']\n",
    "\n",
    "# test the function\n",
    "hybrid_user_ar_support(member_number)"
   ]
  },
  {
   "cell_type": "markdown",
   "id": "b8b884ea",
   "metadata": {},
   "source": [
    "### 2.4.3 Evalutate The Two Hybrid Functions"
   ]
  },
  {
   "cell_type": "code",
   "execution_count": 115,
   "id": "4e0fd7ae",
   "metadata": {},
   "outputs": [],
   "source": [
    "# define helper functions\n",
    "def calculate_precision_recall_at_k(test_data, recommend_function, k=10):\n",
    "    precisions = []\n",
    "    recalls = []\n",
    "    \n",
    "    for user in test_data['Member_number'].unique():\n",
    "        # Get the items the user has interacted with in the test data\n",
    "        test_items = set(test_data[test_data['Member_number'] == user]['itemDescription'].tolist())\n",
    "        \n",
    "        # Get the top-k items recommended by the function\n",
    "        recommended_items, _ = recommend_function(user, k)\n",
    "        recommended_items = set(recommended_items)\n",
    "        \n",
    "        # Calculate precision and recall\n",
    "        tp = len(test_items & recommended_items)\n",
    "        precision = tp / len(recommended_items)\n",
    "        recall = tp / len(test_items)\n",
    "        \n",
    "        precisions.append(precision)\n",
    "        recalls.append(recall)\n",
    "    \n",
    "    # Calculate average precision and recall\n",
    "    avg_precision = sum(precisions) / len(precisions)\n",
    "    avg_recall = sum(recalls) / len(recalls)\n",
    "    \n",
    "    return avg_precision, avg_recall\n",
    "\n",
    "def calculate_coverage_at_k(test_data, recommend_function, k=10):\n",
    "    unique_items = set(test_data['itemDescription'].unique())\n",
    "    recommended_items = set()\n",
    "    \n",
    "    for user in test_data['Member_number'].unique():\n",
    "        items, _ = recommend_function(user, k)\n",
    "        recommended_items.update(items)\n",
    "    \n",
    "    coverage = len(recommended_items) / len(unique_items)\n",
    "    return coverage\n"
   ]
  },
  {
   "cell_type": "code",
   "execution_count": 116,
   "id": "35c0f1e1",
   "metadata": {},
   "outputs": [
    {
     "name": "stderr",
     "output_type": "stream",
     "text": [
      "C:\\Users\\10168\\anaconda3\\lib\\site-packages\\sklearn\\preprocessing\\_data.py:461: RuntimeWarning: All-NaN slice encountered\n",
      "  data_min = np.nanmin(X, axis=0)\n",
      "C:\\Users\\10168\\anaconda3\\lib\\site-packages\\sklearn\\preprocessing\\_data.py:462: RuntimeWarning: All-NaN slice encountered\n",
      "  data_max = np.nanmax(X, axis=0)\n",
      "C:\\Users\\10168\\anaconda3\\lib\\site-packages\\sklearn\\preprocessing\\_data.py:461: RuntimeWarning: All-NaN slice encountered\n",
      "  data_min = np.nanmin(X, axis=0)\n",
      "C:\\Users\\10168\\anaconda3\\lib\\site-packages\\sklearn\\preprocessing\\_data.py:462: RuntimeWarning: All-NaN slice encountered\n",
      "  data_max = np.nanmax(X, axis=0)\n",
      "C:\\Users\\10168\\anaconda3\\lib\\site-packages\\sklearn\\preprocessing\\_data.py:461: RuntimeWarning: All-NaN slice encountered\n",
      "  data_min = np.nanmin(X, axis=0)\n",
      "C:\\Users\\10168\\anaconda3\\lib\\site-packages\\sklearn\\preprocessing\\_data.py:462: RuntimeWarning: All-NaN slice encountered\n",
      "  data_max = np.nanmax(X, axis=0)\n",
      "C:\\Users\\10168\\anaconda3\\lib\\site-packages\\sklearn\\preprocessing\\_data.py:461: RuntimeWarning: All-NaN slice encountered\n",
      "  data_min = np.nanmin(X, axis=0)\n",
      "C:\\Users\\10168\\anaconda3\\lib\\site-packages\\sklearn\\preprocessing\\_data.py:462: RuntimeWarning: All-NaN slice encountered\n",
      "  data_max = np.nanmax(X, axis=0)\n",
      "C:\\Users\\10168\\anaconda3\\lib\\site-packages\\sklearn\\preprocessing\\_data.py:461: RuntimeWarning: All-NaN slice encountered\n",
      "  data_min = np.nanmin(X, axis=0)\n",
      "C:\\Users\\10168\\anaconda3\\lib\\site-packages\\sklearn\\preprocessing\\_data.py:462: RuntimeWarning: All-NaN slice encountered\n",
      "  data_max = np.nanmax(X, axis=0)\n",
      "C:\\Users\\10168\\anaconda3\\lib\\site-packages\\sklearn\\preprocessing\\_data.py:461: RuntimeWarning: All-NaN slice encountered\n",
      "  data_min = np.nanmin(X, axis=0)\n",
      "C:\\Users\\10168\\anaconda3\\lib\\site-packages\\sklearn\\preprocessing\\_data.py:462: RuntimeWarning: All-NaN slice encountered\n",
      "  data_max = np.nanmax(X, axis=0)\n",
      "C:\\Users\\10168\\anaconda3\\lib\\site-packages\\sklearn\\preprocessing\\_data.py:461: RuntimeWarning: All-NaN slice encountered\n",
      "  data_min = np.nanmin(X, axis=0)\n",
      "C:\\Users\\10168\\anaconda3\\lib\\site-packages\\sklearn\\preprocessing\\_data.py:462: RuntimeWarning: All-NaN slice encountered\n",
      "  data_max = np.nanmax(X, axis=0)\n",
      "C:\\Users\\10168\\anaconda3\\lib\\site-packages\\sklearn\\preprocessing\\_data.py:461: RuntimeWarning: All-NaN slice encountered\n",
      "  data_min = np.nanmin(X, axis=0)\n",
      "C:\\Users\\10168\\anaconda3\\lib\\site-packages\\sklearn\\preprocessing\\_data.py:462: RuntimeWarning: All-NaN slice encountered\n",
      "  data_max = np.nanmax(X, axis=0)\n",
      "C:\\Users\\10168\\anaconda3\\lib\\site-packages\\sklearn\\preprocessing\\_data.py:461: RuntimeWarning: All-NaN slice encountered\n",
      "  data_min = np.nanmin(X, axis=0)\n",
      "C:\\Users\\10168\\anaconda3\\lib\\site-packages\\sklearn\\preprocessing\\_data.py:462: RuntimeWarning: All-NaN slice encountered\n",
      "  data_max = np.nanmax(X, axis=0)\n",
      "C:\\Users\\10168\\anaconda3\\lib\\site-packages\\sklearn\\preprocessing\\_data.py:461: RuntimeWarning: All-NaN slice encountered\n",
      "  data_min = np.nanmin(X, axis=0)\n",
      "C:\\Users\\10168\\anaconda3\\lib\\site-packages\\sklearn\\preprocessing\\_data.py:462: RuntimeWarning: All-NaN slice encountered\n",
      "  data_max = np.nanmax(X, axis=0)\n",
      "C:\\Users\\10168\\anaconda3\\lib\\site-packages\\sklearn\\preprocessing\\_data.py:461: RuntimeWarning: All-NaN slice encountered\n",
      "  data_min = np.nanmin(X, axis=0)\n",
      "C:\\Users\\10168\\anaconda3\\lib\\site-packages\\sklearn\\preprocessing\\_data.py:462: RuntimeWarning: All-NaN slice encountered\n",
      "  data_max = np.nanmax(X, axis=0)\n",
      "C:\\Users\\10168\\anaconda3\\lib\\site-packages\\sklearn\\preprocessing\\_data.py:461: RuntimeWarning: All-NaN slice encountered\n",
      "  data_min = np.nanmin(X, axis=0)\n",
      "C:\\Users\\10168\\anaconda3\\lib\\site-packages\\sklearn\\preprocessing\\_data.py:462: RuntimeWarning: All-NaN slice encountered\n",
      "  data_max = np.nanmax(X, axis=0)\n",
      "C:\\Users\\10168\\anaconda3\\lib\\site-packages\\sklearn\\preprocessing\\_data.py:461: RuntimeWarning: All-NaN slice encountered\n",
      "  data_min = np.nanmin(X, axis=0)\n",
      "C:\\Users\\10168\\anaconda3\\lib\\site-packages\\sklearn\\preprocessing\\_data.py:462: RuntimeWarning: All-NaN slice encountered\n",
      "  data_max = np.nanmax(X, axis=0)\n",
      "C:\\Users\\10168\\anaconda3\\lib\\site-packages\\sklearn\\preprocessing\\_data.py:461: RuntimeWarning: All-NaN slice encountered\n",
      "  data_min = np.nanmin(X, axis=0)\n",
      "C:\\Users\\10168\\anaconda3\\lib\\site-packages\\sklearn\\preprocessing\\_data.py:462: RuntimeWarning: All-NaN slice encountered\n",
      "  data_max = np.nanmax(X, axis=0)\n",
      "C:\\Users\\10168\\anaconda3\\lib\\site-packages\\sklearn\\preprocessing\\_data.py:461: RuntimeWarning: All-NaN slice encountered\n",
      "  data_min = np.nanmin(X, axis=0)\n",
      "C:\\Users\\10168\\anaconda3\\lib\\site-packages\\sklearn\\preprocessing\\_data.py:462: RuntimeWarning: All-NaN slice encountered\n",
      "  data_max = np.nanmax(X, axis=0)\n",
      "C:\\Users\\10168\\anaconda3\\lib\\site-packages\\sklearn\\preprocessing\\_data.py:461: RuntimeWarning: All-NaN slice encountered\n",
      "  data_min = np.nanmin(X, axis=0)\n",
      "C:\\Users\\10168\\anaconda3\\lib\\site-packages\\sklearn\\preprocessing\\_data.py:462: RuntimeWarning: All-NaN slice encountered\n",
      "  data_max = np.nanmax(X, axis=0)\n",
      "C:\\Users\\10168\\anaconda3\\lib\\site-packages\\sklearn\\preprocessing\\_data.py:461: RuntimeWarning: All-NaN slice encountered\n",
      "  data_min = np.nanmin(X, axis=0)\n",
      "C:\\Users\\10168\\anaconda3\\lib\\site-packages\\sklearn\\preprocessing\\_data.py:462: RuntimeWarning: All-NaN slice encountered\n",
      "  data_max = np.nanmax(X, axis=0)\n",
      "C:\\Users\\10168\\anaconda3\\lib\\site-packages\\sklearn\\preprocessing\\_data.py:461: RuntimeWarning: All-NaN slice encountered\n",
      "  data_min = np.nanmin(X, axis=0)\n",
      "C:\\Users\\10168\\anaconda3\\lib\\site-packages\\sklearn\\preprocessing\\_data.py:462: RuntimeWarning: All-NaN slice encountered\n",
      "  data_max = np.nanmax(X, axis=0)\n",
      "C:\\Users\\10168\\anaconda3\\lib\\site-packages\\sklearn\\preprocessing\\_data.py:461: RuntimeWarning: All-NaN slice encountered\n",
      "  data_min = np.nanmin(X, axis=0)\n",
      "C:\\Users\\10168\\anaconda3\\lib\\site-packages\\sklearn\\preprocessing\\_data.py:462: RuntimeWarning: All-NaN slice encountered\n",
      "  data_max = np.nanmax(X, axis=0)\n",
      "C:\\Users\\10168\\anaconda3\\lib\\site-packages\\sklearn\\preprocessing\\_data.py:461: RuntimeWarning: All-NaN slice encountered\n",
      "  data_min = np.nanmin(X, axis=0)\n",
      "C:\\Users\\10168\\anaconda3\\lib\\site-packages\\sklearn\\preprocessing\\_data.py:462: RuntimeWarning: All-NaN slice encountered\n",
      "  data_max = np.nanmax(X, axis=0)\n",
      "C:\\Users\\10168\\anaconda3\\lib\\site-packages\\sklearn\\preprocessing\\_data.py:461: RuntimeWarning: All-NaN slice encountered\n",
      "  data_min = np.nanmin(X, axis=0)\n",
      "C:\\Users\\10168\\anaconda3\\lib\\site-packages\\sklearn\\preprocessing\\_data.py:462: RuntimeWarning: All-NaN slice encountered\n",
      "  data_max = np.nanmax(X, axis=0)\n",
      "C:\\Users\\10168\\anaconda3\\lib\\site-packages\\sklearn\\preprocessing\\_data.py:461: RuntimeWarning: All-NaN slice encountered\n",
      "  data_min = np.nanmin(X, axis=0)\n",
      "C:\\Users\\10168\\anaconda3\\lib\\site-packages\\sklearn\\preprocessing\\_data.py:462: RuntimeWarning: All-NaN slice encountered\n",
      "  data_max = np.nanmax(X, axis=0)\n",
      "C:\\Users\\10168\\anaconda3\\lib\\site-packages\\sklearn\\preprocessing\\_data.py:461: RuntimeWarning: All-NaN slice encountered\n",
      "  data_min = np.nanmin(X, axis=0)\n",
      "C:\\Users\\10168\\anaconda3\\lib\\site-packages\\sklearn\\preprocessing\\_data.py:462: RuntimeWarning: All-NaN slice encountered\n",
      "  data_max = np.nanmax(X, axis=0)\n",
      "C:\\Users\\10168\\anaconda3\\lib\\site-packages\\sklearn\\preprocessing\\_data.py:461: RuntimeWarning: All-NaN slice encountered\n",
      "  data_min = np.nanmin(X, axis=0)\n",
      "C:\\Users\\10168\\anaconda3\\lib\\site-packages\\sklearn\\preprocessing\\_data.py:462: RuntimeWarning: All-NaN slice encountered\n",
      "  data_max = np.nanmax(X, axis=0)\n",
      "C:\\Users\\10168\\anaconda3\\lib\\site-packages\\sklearn\\preprocessing\\_data.py:461: RuntimeWarning: All-NaN slice encountered\n",
      "  data_min = np.nanmin(X, axis=0)\n",
      "C:\\Users\\10168\\anaconda3\\lib\\site-packages\\sklearn\\preprocessing\\_data.py:462: RuntimeWarning: All-NaN slice encountered\n",
      "  data_max = np.nanmax(X, axis=0)\n",
      "C:\\Users\\10168\\anaconda3\\lib\\site-packages\\sklearn\\preprocessing\\_data.py:461: RuntimeWarning: All-NaN slice encountered\n",
      "  data_min = np.nanmin(X, axis=0)\n",
      "C:\\Users\\10168\\anaconda3\\lib\\site-packages\\sklearn\\preprocessing\\_data.py:462: RuntimeWarning: All-NaN slice encountered\n",
      "  data_max = np.nanmax(X, axis=0)\n",
      "C:\\Users\\10168\\anaconda3\\lib\\site-packages\\sklearn\\preprocessing\\_data.py:461: RuntimeWarning: All-NaN slice encountered\n",
      "  data_min = np.nanmin(X, axis=0)\n",
      "C:\\Users\\10168\\anaconda3\\lib\\site-packages\\sklearn\\preprocessing\\_data.py:462: RuntimeWarning: All-NaN slice encountered\n",
      "  data_max = np.nanmax(X, axis=0)\n",
      "C:\\Users\\10168\\anaconda3\\lib\\site-packages\\sklearn\\preprocessing\\_data.py:461: RuntimeWarning: All-NaN slice encountered\n",
      "  data_min = np.nanmin(X, axis=0)\n",
      "C:\\Users\\10168\\anaconda3\\lib\\site-packages\\sklearn\\preprocessing\\_data.py:462: RuntimeWarning: All-NaN slice encountered\n",
      "  data_max = np.nanmax(X, axis=0)\n"
     ]
    },
    {
     "name": "stderr",
     "output_type": "stream",
     "text": [
      "C:\\Users\\10168\\anaconda3\\lib\\site-packages\\sklearn\\preprocessing\\_data.py:461: RuntimeWarning: All-NaN slice encountered\n",
      "  data_min = np.nanmin(X, axis=0)\n",
      "C:\\Users\\10168\\anaconda3\\lib\\site-packages\\sklearn\\preprocessing\\_data.py:462: RuntimeWarning: All-NaN slice encountered\n",
      "  data_max = np.nanmax(X, axis=0)\n",
      "C:\\Users\\10168\\anaconda3\\lib\\site-packages\\sklearn\\preprocessing\\_data.py:461: RuntimeWarning: All-NaN slice encountered\n",
      "  data_min = np.nanmin(X, axis=0)\n",
      "C:\\Users\\10168\\anaconda3\\lib\\site-packages\\sklearn\\preprocessing\\_data.py:462: RuntimeWarning: All-NaN slice encountered\n",
      "  data_max = np.nanmax(X, axis=0)\n",
      "C:\\Users\\10168\\anaconda3\\lib\\site-packages\\sklearn\\preprocessing\\_data.py:461: RuntimeWarning: All-NaN slice encountered\n",
      "  data_min = np.nanmin(X, axis=0)\n",
      "C:\\Users\\10168\\anaconda3\\lib\\site-packages\\sklearn\\preprocessing\\_data.py:462: RuntimeWarning: All-NaN slice encountered\n",
      "  data_max = np.nanmax(X, axis=0)\n",
      "C:\\Users\\10168\\anaconda3\\lib\\site-packages\\sklearn\\preprocessing\\_data.py:461: RuntimeWarning: All-NaN slice encountered\n",
      "  data_min = np.nanmin(X, axis=0)\n",
      "C:\\Users\\10168\\anaconda3\\lib\\site-packages\\sklearn\\preprocessing\\_data.py:462: RuntimeWarning: All-NaN slice encountered\n",
      "  data_max = np.nanmax(X, axis=0)\n",
      "C:\\Users\\10168\\anaconda3\\lib\\site-packages\\sklearn\\preprocessing\\_data.py:461: RuntimeWarning: All-NaN slice encountered\n",
      "  data_min = np.nanmin(X, axis=0)\n",
      "C:\\Users\\10168\\anaconda3\\lib\\site-packages\\sklearn\\preprocessing\\_data.py:462: RuntimeWarning: All-NaN slice encountered\n",
      "  data_max = np.nanmax(X, axis=0)\n",
      "C:\\Users\\10168\\anaconda3\\lib\\site-packages\\sklearn\\preprocessing\\_data.py:461: RuntimeWarning: All-NaN slice encountered\n",
      "  data_min = np.nanmin(X, axis=0)\n",
      "C:\\Users\\10168\\anaconda3\\lib\\site-packages\\sklearn\\preprocessing\\_data.py:462: RuntimeWarning: All-NaN slice encountered\n",
      "  data_max = np.nanmax(X, axis=0)\n",
      "C:\\Users\\10168\\anaconda3\\lib\\site-packages\\sklearn\\preprocessing\\_data.py:461: RuntimeWarning: All-NaN slice encountered\n",
      "  data_min = np.nanmin(X, axis=0)\n",
      "C:\\Users\\10168\\anaconda3\\lib\\site-packages\\sklearn\\preprocessing\\_data.py:462: RuntimeWarning: All-NaN slice encountered\n",
      "  data_max = np.nanmax(X, axis=0)\n",
      "C:\\Users\\10168\\anaconda3\\lib\\site-packages\\sklearn\\preprocessing\\_data.py:461: RuntimeWarning: All-NaN slice encountered\n",
      "  data_min = np.nanmin(X, axis=0)\n",
      "C:\\Users\\10168\\anaconda3\\lib\\site-packages\\sklearn\\preprocessing\\_data.py:462: RuntimeWarning: All-NaN slice encountered\n",
      "  data_max = np.nanmax(X, axis=0)\n",
      "C:\\Users\\10168\\anaconda3\\lib\\site-packages\\sklearn\\preprocessing\\_data.py:461: RuntimeWarning: All-NaN slice encountered\n",
      "  data_min = np.nanmin(X, axis=0)\n",
      "C:\\Users\\10168\\anaconda3\\lib\\site-packages\\sklearn\\preprocessing\\_data.py:462: RuntimeWarning: All-NaN slice encountered\n",
      "  data_max = np.nanmax(X, axis=0)\n",
      "C:\\Users\\10168\\anaconda3\\lib\\site-packages\\sklearn\\preprocessing\\_data.py:461: RuntimeWarning: All-NaN slice encountered\n",
      "  data_min = np.nanmin(X, axis=0)\n",
      "C:\\Users\\10168\\anaconda3\\lib\\site-packages\\sklearn\\preprocessing\\_data.py:462: RuntimeWarning: All-NaN slice encountered\n",
      "  data_max = np.nanmax(X, axis=0)\n",
      "C:\\Users\\10168\\anaconda3\\lib\\site-packages\\sklearn\\preprocessing\\_data.py:461: RuntimeWarning: All-NaN slice encountered\n",
      "  data_min = np.nanmin(X, axis=0)\n",
      "C:\\Users\\10168\\anaconda3\\lib\\site-packages\\sklearn\\preprocessing\\_data.py:462: RuntimeWarning: All-NaN slice encountered\n",
      "  data_max = np.nanmax(X, axis=0)\n",
      "C:\\Users\\10168\\anaconda3\\lib\\site-packages\\sklearn\\preprocessing\\_data.py:461: RuntimeWarning: All-NaN slice encountered\n",
      "  data_min = np.nanmin(X, axis=0)\n",
      "C:\\Users\\10168\\anaconda3\\lib\\site-packages\\sklearn\\preprocessing\\_data.py:462: RuntimeWarning: All-NaN slice encountered\n",
      "  data_max = np.nanmax(X, axis=0)\n",
      "C:\\Users\\10168\\anaconda3\\lib\\site-packages\\sklearn\\preprocessing\\_data.py:461: RuntimeWarning: All-NaN slice encountered\n",
      "  data_min = np.nanmin(X, axis=0)\n",
      "C:\\Users\\10168\\anaconda3\\lib\\site-packages\\sklearn\\preprocessing\\_data.py:462: RuntimeWarning: All-NaN slice encountered\n",
      "  data_max = np.nanmax(X, axis=0)\n",
      "C:\\Users\\10168\\anaconda3\\lib\\site-packages\\sklearn\\preprocessing\\_data.py:461: RuntimeWarning: All-NaN slice encountered\n",
      "  data_min = np.nanmin(X, axis=0)\n",
      "C:\\Users\\10168\\anaconda3\\lib\\site-packages\\sklearn\\preprocessing\\_data.py:462: RuntimeWarning: All-NaN slice encountered\n",
      "  data_max = np.nanmax(X, axis=0)\n",
      "C:\\Users\\10168\\anaconda3\\lib\\site-packages\\sklearn\\preprocessing\\_data.py:461: RuntimeWarning: All-NaN slice encountered\n",
      "  data_min = np.nanmin(X, axis=0)\n",
      "C:\\Users\\10168\\anaconda3\\lib\\site-packages\\sklearn\\preprocessing\\_data.py:462: RuntimeWarning: All-NaN slice encountered\n",
      "  data_max = np.nanmax(X, axis=0)\n",
      "C:\\Users\\10168\\anaconda3\\lib\\site-packages\\sklearn\\preprocessing\\_data.py:461: RuntimeWarning: All-NaN slice encountered\n",
      "  data_min = np.nanmin(X, axis=0)\n",
      "C:\\Users\\10168\\anaconda3\\lib\\site-packages\\sklearn\\preprocessing\\_data.py:462: RuntimeWarning: All-NaN slice encountered\n",
      "  data_max = np.nanmax(X, axis=0)\n",
      "C:\\Users\\10168\\anaconda3\\lib\\site-packages\\sklearn\\preprocessing\\_data.py:461: RuntimeWarning: All-NaN slice encountered\n",
      "  data_min = np.nanmin(X, axis=0)\n",
      "C:\\Users\\10168\\anaconda3\\lib\\site-packages\\sklearn\\preprocessing\\_data.py:462: RuntimeWarning: All-NaN slice encountered\n",
      "  data_max = np.nanmax(X, axis=0)\n",
      "C:\\Users\\10168\\anaconda3\\lib\\site-packages\\sklearn\\preprocessing\\_data.py:461: RuntimeWarning: All-NaN slice encountered\n",
      "  data_min = np.nanmin(X, axis=0)\n",
      "C:\\Users\\10168\\anaconda3\\lib\\site-packages\\sklearn\\preprocessing\\_data.py:462: RuntimeWarning: All-NaN slice encountered\n",
      "  data_max = np.nanmax(X, axis=0)\n",
      "C:\\Users\\10168\\anaconda3\\lib\\site-packages\\sklearn\\preprocessing\\_data.py:461: RuntimeWarning: All-NaN slice encountered\n",
      "  data_min = np.nanmin(X, axis=0)\n",
      "C:\\Users\\10168\\anaconda3\\lib\\site-packages\\sklearn\\preprocessing\\_data.py:462: RuntimeWarning: All-NaN slice encountered\n",
      "  data_max = np.nanmax(X, axis=0)\n",
      "C:\\Users\\10168\\anaconda3\\lib\\site-packages\\sklearn\\preprocessing\\_data.py:461: RuntimeWarning: All-NaN slice encountered\n",
      "  data_min = np.nanmin(X, axis=0)\n",
      "C:\\Users\\10168\\anaconda3\\lib\\site-packages\\sklearn\\preprocessing\\_data.py:462: RuntimeWarning: All-NaN slice encountered\n",
      "  data_max = np.nanmax(X, axis=0)\n",
      "C:\\Users\\10168\\anaconda3\\lib\\site-packages\\sklearn\\preprocessing\\_data.py:461: RuntimeWarning: All-NaN slice encountered\n",
      "  data_min = np.nanmin(X, axis=0)\n",
      "C:\\Users\\10168\\anaconda3\\lib\\site-packages\\sklearn\\preprocessing\\_data.py:462: RuntimeWarning: All-NaN slice encountered\n",
      "  data_max = np.nanmax(X, axis=0)\n",
      "C:\\Users\\10168\\anaconda3\\lib\\site-packages\\sklearn\\preprocessing\\_data.py:461: RuntimeWarning: All-NaN slice encountered\n",
      "  data_min = np.nanmin(X, axis=0)\n",
      "C:\\Users\\10168\\anaconda3\\lib\\site-packages\\sklearn\\preprocessing\\_data.py:462: RuntimeWarning: All-NaN slice encountered\n",
      "  data_max = np.nanmax(X, axis=0)\n",
      "C:\\Users\\10168\\anaconda3\\lib\\site-packages\\sklearn\\preprocessing\\_data.py:461: RuntimeWarning: All-NaN slice encountered\n",
      "  data_min = np.nanmin(X, axis=0)\n",
      "C:\\Users\\10168\\anaconda3\\lib\\site-packages\\sklearn\\preprocessing\\_data.py:462: RuntimeWarning: All-NaN slice encountered\n",
      "  data_max = np.nanmax(X, axis=0)\n",
      "C:\\Users\\10168\\anaconda3\\lib\\site-packages\\sklearn\\preprocessing\\_data.py:461: RuntimeWarning: All-NaN slice encountered\n",
      "  data_min = np.nanmin(X, axis=0)\n",
      "C:\\Users\\10168\\anaconda3\\lib\\site-packages\\sklearn\\preprocessing\\_data.py:462: RuntimeWarning: All-NaN slice encountered\n",
      "  data_max = np.nanmax(X, axis=0)\n",
      "C:\\Users\\10168\\anaconda3\\lib\\site-packages\\sklearn\\preprocessing\\_data.py:461: RuntimeWarning: All-NaN slice encountered\n",
      "  data_min = np.nanmin(X, axis=0)\n",
      "C:\\Users\\10168\\anaconda3\\lib\\site-packages\\sklearn\\preprocessing\\_data.py:462: RuntimeWarning: All-NaN slice encountered\n",
      "  data_max = np.nanmax(X, axis=0)\n",
      "C:\\Users\\10168\\anaconda3\\lib\\site-packages\\sklearn\\preprocessing\\_data.py:461: RuntimeWarning: All-NaN slice encountered\n",
      "  data_min = np.nanmin(X, axis=0)\n",
      "C:\\Users\\10168\\anaconda3\\lib\\site-packages\\sklearn\\preprocessing\\_data.py:462: RuntimeWarning: All-NaN slice encountered\n",
      "  data_max = np.nanmax(X, axis=0)\n",
      "C:\\Users\\10168\\anaconda3\\lib\\site-packages\\sklearn\\preprocessing\\_data.py:461: RuntimeWarning: All-NaN slice encountered\n",
      "  data_min = np.nanmin(X, axis=0)\n",
      "C:\\Users\\10168\\anaconda3\\lib\\site-packages\\sklearn\\preprocessing\\_data.py:462: RuntimeWarning: All-NaN slice encountered\n",
      "  data_max = np.nanmax(X, axis=0)\n"
     ]
    },
    {
     "name": "stderr",
     "output_type": "stream",
     "text": [
      "C:\\Users\\10168\\anaconda3\\lib\\site-packages\\sklearn\\preprocessing\\_data.py:461: RuntimeWarning: All-NaN slice encountered\n",
      "  data_min = np.nanmin(X, axis=0)\n",
      "C:\\Users\\10168\\anaconda3\\lib\\site-packages\\sklearn\\preprocessing\\_data.py:462: RuntimeWarning: All-NaN slice encountered\n",
      "  data_max = np.nanmax(X, axis=0)\n",
      "C:\\Users\\10168\\anaconda3\\lib\\site-packages\\sklearn\\preprocessing\\_data.py:461: RuntimeWarning: All-NaN slice encountered\n",
      "  data_min = np.nanmin(X, axis=0)\n",
      "C:\\Users\\10168\\anaconda3\\lib\\site-packages\\sklearn\\preprocessing\\_data.py:462: RuntimeWarning: All-NaN slice encountered\n",
      "  data_max = np.nanmax(X, axis=0)\n",
      "C:\\Users\\10168\\anaconda3\\lib\\site-packages\\sklearn\\preprocessing\\_data.py:461: RuntimeWarning: All-NaN slice encountered\n",
      "  data_min = np.nanmin(X, axis=0)\n",
      "C:\\Users\\10168\\anaconda3\\lib\\site-packages\\sklearn\\preprocessing\\_data.py:462: RuntimeWarning: All-NaN slice encountered\n",
      "  data_max = np.nanmax(X, axis=0)\n",
      "C:\\Users\\10168\\anaconda3\\lib\\site-packages\\sklearn\\preprocessing\\_data.py:461: RuntimeWarning: All-NaN slice encountered\n",
      "  data_min = np.nanmin(X, axis=0)\n",
      "C:\\Users\\10168\\anaconda3\\lib\\site-packages\\sklearn\\preprocessing\\_data.py:462: RuntimeWarning: All-NaN slice encountered\n",
      "  data_max = np.nanmax(X, axis=0)\n",
      "C:\\Users\\10168\\anaconda3\\lib\\site-packages\\sklearn\\preprocessing\\_data.py:461: RuntimeWarning: All-NaN slice encountered\n",
      "  data_min = np.nanmin(X, axis=0)\n",
      "C:\\Users\\10168\\anaconda3\\lib\\site-packages\\sklearn\\preprocessing\\_data.py:462: RuntimeWarning: All-NaN slice encountered\n",
      "  data_max = np.nanmax(X, axis=0)\n",
      "C:\\Users\\10168\\anaconda3\\lib\\site-packages\\sklearn\\preprocessing\\_data.py:461: RuntimeWarning: All-NaN slice encountered\n",
      "  data_min = np.nanmin(X, axis=0)\n",
      "C:\\Users\\10168\\anaconda3\\lib\\site-packages\\sklearn\\preprocessing\\_data.py:462: RuntimeWarning: All-NaN slice encountered\n",
      "  data_max = np.nanmax(X, axis=0)\n",
      "C:\\Users\\10168\\anaconda3\\lib\\site-packages\\sklearn\\preprocessing\\_data.py:461: RuntimeWarning: All-NaN slice encountered\n",
      "  data_min = np.nanmin(X, axis=0)\n",
      "C:\\Users\\10168\\anaconda3\\lib\\site-packages\\sklearn\\preprocessing\\_data.py:462: RuntimeWarning: All-NaN slice encountered\n",
      "  data_max = np.nanmax(X, axis=0)\n",
      "C:\\Users\\10168\\anaconda3\\lib\\site-packages\\sklearn\\preprocessing\\_data.py:461: RuntimeWarning: All-NaN slice encountered\n",
      "  data_min = np.nanmin(X, axis=0)\n",
      "C:\\Users\\10168\\anaconda3\\lib\\site-packages\\sklearn\\preprocessing\\_data.py:462: RuntimeWarning: All-NaN slice encountered\n",
      "  data_max = np.nanmax(X, axis=0)\n",
      "C:\\Users\\10168\\anaconda3\\lib\\site-packages\\sklearn\\preprocessing\\_data.py:461: RuntimeWarning: All-NaN slice encountered\n",
      "  data_min = np.nanmin(X, axis=0)\n",
      "C:\\Users\\10168\\anaconda3\\lib\\site-packages\\sklearn\\preprocessing\\_data.py:462: RuntimeWarning: All-NaN slice encountered\n",
      "  data_max = np.nanmax(X, axis=0)\n",
      "C:\\Users\\10168\\anaconda3\\lib\\site-packages\\sklearn\\preprocessing\\_data.py:461: RuntimeWarning: All-NaN slice encountered\n",
      "  data_min = np.nanmin(X, axis=0)\n",
      "C:\\Users\\10168\\anaconda3\\lib\\site-packages\\sklearn\\preprocessing\\_data.py:462: RuntimeWarning: All-NaN slice encountered\n",
      "  data_max = np.nanmax(X, axis=0)\n",
      "C:\\Users\\10168\\anaconda3\\lib\\site-packages\\sklearn\\preprocessing\\_data.py:461: RuntimeWarning: All-NaN slice encountered\n",
      "  data_min = np.nanmin(X, axis=0)\n",
      "C:\\Users\\10168\\anaconda3\\lib\\site-packages\\sklearn\\preprocessing\\_data.py:462: RuntimeWarning: All-NaN slice encountered\n",
      "  data_max = np.nanmax(X, axis=0)\n",
      "C:\\Users\\10168\\anaconda3\\lib\\site-packages\\sklearn\\preprocessing\\_data.py:461: RuntimeWarning: All-NaN slice encountered\n",
      "  data_min = np.nanmin(X, axis=0)\n",
      "C:\\Users\\10168\\anaconda3\\lib\\site-packages\\sklearn\\preprocessing\\_data.py:462: RuntimeWarning: All-NaN slice encountered\n",
      "  data_max = np.nanmax(X, axis=0)\n",
      "C:\\Users\\10168\\anaconda3\\lib\\site-packages\\sklearn\\preprocessing\\_data.py:461: RuntimeWarning: All-NaN slice encountered\n",
      "  data_min = np.nanmin(X, axis=0)\n",
      "C:\\Users\\10168\\anaconda3\\lib\\site-packages\\sklearn\\preprocessing\\_data.py:462: RuntimeWarning: All-NaN slice encountered\n",
      "  data_max = np.nanmax(X, axis=0)\n",
      "C:\\Users\\10168\\anaconda3\\lib\\site-packages\\sklearn\\preprocessing\\_data.py:461: RuntimeWarning: All-NaN slice encountered\n",
      "  data_min = np.nanmin(X, axis=0)\n",
      "C:\\Users\\10168\\anaconda3\\lib\\site-packages\\sklearn\\preprocessing\\_data.py:462: RuntimeWarning: All-NaN slice encountered\n",
      "  data_max = np.nanmax(X, axis=0)\n",
      "C:\\Users\\10168\\anaconda3\\lib\\site-packages\\sklearn\\preprocessing\\_data.py:461: RuntimeWarning: All-NaN slice encountered\n",
      "  data_min = np.nanmin(X, axis=0)\n",
      "C:\\Users\\10168\\anaconda3\\lib\\site-packages\\sklearn\\preprocessing\\_data.py:462: RuntimeWarning: All-NaN slice encountered\n",
      "  data_max = np.nanmax(X, axis=0)\n",
      "C:\\Users\\10168\\anaconda3\\lib\\site-packages\\sklearn\\preprocessing\\_data.py:461: RuntimeWarning: All-NaN slice encountered\n",
      "  data_min = np.nanmin(X, axis=0)\n",
      "C:\\Users\\10168\\anaconda3\\lib\\site-packages\\sklearn\\preprocessing\\_data.py:462: RuntimeWarning: All-NaN slice encountered\n",
      "  data_max = np.nanmax(X, axis=0)\n",
      "C:\\Users\\10168\\anaconda3\\lib\\site-packages\\sklearn\\preprocessing\\_data.py:461: RuntimeWarning: All-NaN slice encountered\n",
      "  data_min = np.nanmin(X, axis=0)\n",
      "C:\\Users\\10168\\anaconda3\\lib\\site-packages\\sklearn\\preprocessing\\_data.py:462: RuntimeWarning: All-NaN slice encountered\n",
      "  data_max = np.nanmax(X, axis=0)\n",
      "C:\\Users\\10168\\anaconda3\\lib\\site-packages\\sklearn\\preprocessing\\_data.py:461: RuntimeWarning: All-NaN slice encountered\n",
      "  data_min = np.nanmin(X, axis=0)\n",
      "C:\\Users\\10168\\anaconda3\\lib\\site-packages\\sklearn\\preprocessing\\_data.py:462: RuntimeWarning: All-NaN slice encountered\n",
      "  data_max = np.nanmax(X, axis=0)\n",
      "C:\\Users\\10168\\anaconda3\\lib\\site-packages\\sklearn\\preprocessing\\_data.py:461: RuntimeWarning: All-NaN slice encountered\n",
      "  data_min = np.nanmin(X, axis=0)\n",
      "C:\\Users\\10168\\anaconda3\\lib\\site-packages\\sklearn\\preprocessing\\_data.py:462: RuntimeWarning: All-NaN slice encountered\n",
      "  data_max = np.nanmax(X, axis=0)\n",
      "C:\\Users\\10168\\anaconda3\\lib\\site-packages\\sklearn\\preprocessing\\_data.py:461: RuntimeWarning: All-NaN slice encountered\n",
      "  data_min = np.nanmin(X, axis=0)\n",
      "C:\\Users\\10168\\anaconda3\\lib\\site-packages\\sklearn\\preprocessing\\_data.py:462: RuntimeWarning: All-NaN slice encountered\n",
      "  data_max = np.nanmax(X, axis=0)\n",
      "C:\\Users\\10168\\anaconda3\\lib\\site-packages\\sklearn\\preprocessing\\_data.py:461: RuntimeWarning: All-NaN slice encountered\n",
      "  data_min = np.nanmin(X, axis=0)\n",
      "C:\\Users\\10168\\anaconda3\\lib\\site-packages\\sklearn\\preprocessing\\_data.py:462: RuntimeWarning: All-NaN slice encountered\n",
      "  data_max = np.nanmax(X, axis=0)\n",
      "C:\\Users\\10168\\anaconda3\\lib\\site-packages\\sklearn\\preprocessing\\_data.py:461: RuntimeWarning: All-NaN slice encountered\n",
      "  data_min = np.nanmin(X, axis=0)\n",
      "C:\\Users\\10168\\anaconda3\\lib\\site-packages\\sklearn\\preprocessing\\_data.py:462: RuntimeWarning: All-NaN slice encountered\n",
      "  data_max = np.nanmax(X, axis=0)\n",
      "C:\\Users\\10168\\anaconda3\\lib\\site-packages\\sklearn\\preprocessing\\_data.py:461: RuntimeWarning: All-NaN slice encountered\n",
      "  data_min = np.nanmin(X, axis=0)\n",
      "C:\\Users\\10168\\anaconda3\\lib\\site-packages\\sklearn\\preprocessing\\_data.py:462: RuntimeWarning: All-NaN slice encountered\n",
      "  data_max = np.nanmax(X, axis=0)\n",
      "C:\\Users\\10168\\anaconda3\\lib\\site-packages\\sklearn\\preprocessing\\_data.py:461: RuntimeWarning: All-NaN slice encountered\n",
      "  data_min = np.nanmin(X, axis=0)\n",
      "C:\\Users\\10168\\anaconda3\\lib\\site-packages\\sklearn\\preprocessing\\_data.py:462: RuntimeWarning: All-NaN slice encountered\n",
      "  data_max = np.nanmax(X, axis=0)\n",
      "C:\\Users\\10168\\anaconda3\\lib\\site-packages\\sklearn\\preprocessing\\_data.py:461: RuntimeWarning: All-NaN slice encountered\n",
      "  data_min = np.nanmin(X, axis=0)\n",
      "C:\\Users\\10168\\anaconda3\\lib\\site-packages\\sklearn\\preprocessing\\_data.py:462: RuntimeWarning: All-NaN slice encountered\n",
      "  data_max = np.nanmax(X, axis=0)\n",
      "C:\\Users\\10168\\anaconda3\\lib\\site-packages\\sklearn\\preprocessing\\_data.py:461: RuntimeWarning: All-NaN slice encountered\n",
      "  data_min = np.nanmin(X, axis=0)\n",
      "C:\\Users\\10168\\anaconda3\\lib\\site-packages\\sklearn\\preprocessing\\_data.py:462: RuntimeWarning: All-NaN slice encountered\n",
      "  data_max = np.nanmax(X, axis=0)\n",
      "C:\\Users\\10168\\anaconda3\\lib\\site-packages\\sklearn\\preprocessing\\_data.py:461: RuntimeWarning: All-NaN slice encountered\n",
      "  data_min = np.nanmin(X, axis=0)\n",
      "C:\\Users\\10168\\anaconda3\\lib\\site-packages\\sklearn\\preprocessing\\_data.py:462: RuntimeWarning: All-NaN slice encountered\n",
      "  data_max = np.nanmax(X, axis=0)\n"
     ]
    },
    {
     "name": "stderr",
     "output_type": "stream",
     "text": [
      "C:\\Users\\10168\\anaconda3\\lib\\site-packages\\sklearn\\preprocessing\\_data.py:461: RuntimeWarning: All-NaN slice encountered\n",
      "  data_min = np.nanmin(X, axis=0)\n",
      "C:\\Users\\10168\\anaconda3\\lib\\site-packages\\sklearn\\preprocessing\\_data.py:462: RuntimeWarning: All-NaN slice encountered\n",
      "  data_max = np.nanmax(X, axis=0)\n",
      "C:\\Users\\10168\\anaconda3\\lib\\site-packages\\sklearn\\preprocessing\\_data.py:461: RuntimeWarning: All-NaN slice encountered\n",
      "  data_min = np.nanmin(X, axis=0)\n",
      "C:\\Users\\10168\\anaconda3\\lib\\site-packages\\sklearn\\preprocessing\\_data.py:462: RuntimeWarning: All-NaN slice encountered\n",
      "  data_max = np.nanmax(X, axis=0)\n",
      "C:\\Users\\10168\\anaconda3\\lib\\site-packages\\sklearn\\preprocessing\\_data.py:461: RuntimeWarning: All-NaN slice encountered\n",
      "  data_min = np.nanmin(X, axis=0)\n",
      "C:\\Users\\10168\\anaconda3\\lib\\site-packages\\sklearn\\preprocessing\\_data.py:462: RuntimeWarning: All-NaN slice encountered\n",
      "  data_max = np.nanmax(X, axis=0)\n",
      "C:\\Users\\10168\\anaconda3\\lib\\site-packages\\sklearn\\preprocessing\\_data.py:461: RuntimeWarning: All-NaN slice encountered\n",
      "  data_min = np.nanmin(X, axis=0)\n",
      "C:\\Users\\10168\\anaconda3\\lib\\site-packages\\sklearn\\preprocessing\\_data.py:462: RuntimeWarning: All-NaN slice encountered\n",
      "  data_max = np.nanmax(X, axis=0)\n",
      "C:\\Users\\10168\\anaconda3\\lib\\site-packages\\sklearn\\preprocessing\\_data.py:461: RuntimeWarning: All-NaN slice encountered\n",
      "  data_min = np.nanmin(X, axis=0)\n",
      "C:\\Users\\10168\\anaconda3\\lib\\site-packages\\sklearn\\preprocessing\\_data.py:462: RuntimeWarning: All-NaN slice encountered\n",
      "  data_max = np.nanmax(X, axis=0)\n",
      "C:\\Users\\10168\\anaconda3\\lib\\site-packages\\sklearn\\preprocessing\\_data.py:461: RuntimeWarning: All-NaN slice encountered\n",
      "  data_min = np.nanmin(X, axis=0)\n",
      "C:\\Users\\10168\\anaconda3\\lib\\site-packages\\sklearn\\preprocessing\\_data.py:462: RuntimeWarning: All-NaN slice encountered\n",
      "  data_max = np.nanmax(X, axis=0)\n",
      "C:\\Users\\10168\\anaconda3\\lib\\site-packages\\sklearn\\preprocessing\\_data.py:461: RuntimeWarning: All-NaN slice encountered\n",
      "  data_min = np.nanmin(X, axis=0)\n",
      "C:\\Users\\10168\\anaconda3\\lib\\site-packages\\sklearn\\preprocessing\\_data.py:462: RuntimeWarning: All-NaN slice encountered\n",
      "  data_max = np.nanmax(X, axis=0)\n",
      "C:\\Users\\10168\\anaconda3\\lib\\site-packages\\sklearn\\preprocessing\\_data.py:461: RuntimeWarning: All-NaN slice encountered\n",
      "  data_min = np.nanmin(X, axis=0)\n",
      "C:\\Users\\10168\\anaconda3\\lib\\site-packages\\sklearn\\preprocessing\\_data.py:462: RuntimeWarning: All-NaN slice encountered\n",
      "  data_max = np.nanmax(X, axis=0)\n",
      "C:\\Users\\10168\\anaconda3\\lib\\site-packages\\sklearn\\preprocessing\\_data.py:461: RuntimeWarning: All-NaN slice encountered\n",
      "  data_min = np.nanmin(X, axis=0)\n",
      "C:\\Users\\10168\\anaconda3\\lib\\site-packages\\sklearn\\preprocessing\\_data.py:462: RuntimeWarning: All-NaN slice encountered\n",
      "  data_max = np.nanmax(X, axis=0)\n",
      "C:\\Users\\10168\\anaconda3\\lib\\site-packages\\sklearn\\preprocessing\\_data.py:461: RuntimeWarning: All-NaN slice encountered\n",
      "  data_min = np.nanmin(X, axis=0)\n",
      "C:\\Users\\10168\\anaconda3\\lib\\site-packages\\sklearn\\preprocessing\\_data.py:462: RuntimeWarning: All-NaN slice encountered\n",
      "  data_max = np.nanmax(X, axis=0)\n",
      "C:\\Users\\10168\\anaconda3\\lib\\site-packages\\sklearn\\preprocessing\\_data.py:461: RuntimeWarning: All-NaN slice encountered\n",
      "  data_min = np.nanmin(X, axis=0)\n",
      "C:\\Users\\10168\\anaconda3\\lib\\site-packages\\sklearn\\preprocessing\\_data.py:462: RuntimeWarning: All-NaN slice encountered\n",
      "  data_max = np.nanmax(X, axis=0)\n",
      "C:\\Users\\10168\\anaconda3\\lib\\site-packages\\sklearn\\preprocessing\\_data.py:461: RuntimeWarning: All-NaN slice encountered\n",
      "  data_min = np.nanmin(X, axis=0)\n",
      "C:\\Users\\10168\\anaconda3\\lib\\site-packages\\sklearn\\preprocessing\\_data.py:462: RuntimeWarning: All-NaN slice encountered\n",
      "  data_max = np.nanmax(X, axis=0)\n",
      "C:\\Users\\10168\\anaconda3\\lib\\site-packages\\sklearn\\preprocessing\\_data.py:461: RuntimeWarning: All-NaN slice encountered\n",
      "  data_min = np.nanmin(X, axis=0)\n",
      "C:\\Users\\10168\\anaconda3\\lib\\site-packages\\sklearn\\preprocessing\\_data.py:462: RuntimeWarning: All-NaN slice encountered\n",
      "  data_max = np.nanmax(X, axis=0)\n",
      "C:\\Users\\10168\\anaconda3\\lib\\site-packages\\sklearn\\preprocessing\\_data.py:461: RuntimeWarning: All-NaN slice encountered\n",
      "  data_min = np.nanmin(X, axis=0)\n",
      "C:\\Users\\10168\\anaconda3\\lib\\site-packages\\sklearn\\preprocessing\\_data.py:462: RuntimeWarning: All-NaN slice encountered\n",
      "  data_max = np.nanmax(X, axis=0)\n",
      "C:\\Users\\10168\\anaconda3\\lib\\site-packages\\sklearn\\preprocessing\\_data.py:461: RuntimeWarning: All-NaN slice encountered\n",
      "  data_min = np.nanmin(X, axis=0)\n",
      "C:\\Users\\10168\\anaconda3\\lib\\site-packages\\sklearn\\preprocessing\\_data.py:462: RuntimeWarning: All-NaN slice encountered\n",
      "  data_max = np.nanmax(X, axis=0)\n",
      "C:\\Users\\10168\\anaconda3\\lib\\site-packages\\sklearn\\preprocessing\\_data.py:461: RuntimeWarning: All-NaN slice encountered\n",
      "  data_min = np.nanmin(X, axis=0)\n",
      "C:\\Users\\10168\\anaconda3\\lib\\site-packages\\sklearn\\preprocessing\\_data.py:462: RuntimeWarning: All-NaN slice encountered\n",
      "  data_max = np.nanmax(X, axis=0)\n",
      "C:\\Users\\10168\\anaconda3\\lib\\site-packages\\sklearn\\preprocessing\\_data.py:461: RuntimeWarning: All-NaN slice encountered\n",
      "  data_min = np.nanmin(X, axis=0)\n",
      "C:\\Users\\10168\\anaconda3\\lib\\site-packages\\sklearn\\preprocessing\\_data.py:462: RuntimeWarning: All-NaN slice encountered\n",
      "  data_max = np.nanmax(X, axis=0)\n",
      "C:\\Users\\10168\\anaconda3\\lib\\site-packages\\sklearn\\preprocessing\\_data.py:461: RuntimeWarning: All-NaN slice encountered\n",
      "  data_min = np.nanmin(X, axis=0)\n",
      "C:\\Users\\10168\\anaconda3\\lib\\site-packages\\sklearn\\preprocessing\\_data.py:462: RuntimeWarning: All-NaN slice encountered\n",
      "  data_max = np.nanmax(X, axis=0)\n",
      "C:\\Users\\10168\\anaconda3\\lib\\site-packages\\sklearn\\preprocessing\\_data.py:461: RuntimeWarning: All-NaN slice encountered\n",
      "  data_min = np.nanmin(X, axis=0)\n",
      "C:\\Users\\10168\\anaconda3\\lib\\site-packages\\sklearn\\preprocessing\\_data.py:462: RuntimeWarning: All-NaN slice encountered\n",
      "  data_max = np.nanmax(X, axis=0)\n",
      "C:\\Users\\10168\\anaconda3\\lib\\site-packages\\sklearn\\preprocessing\\_data.py:461: RuntimeWarning: All-NaN slice encountered\n",
      "  data_min = np.nanmin(X, axis=0)\n",
      "C:\\Users\\10168\\anaconda3\\lib\\site-packages\\sklearn\\preprocessing\\_data.py:462: RuntimeWarning: All-NaN slice encountered\n",
      "  data_max = np.nanmax(X, axis=0)\n",
      "C:\\Users\\10168\\anaconda3\\lib\\site-packages\\sklearn\\preprocessing\\_data.py:461: RuntimeWarning: All-NaN slice encountered\n",
      "  data_min = np.nanmin(X, axis=0)\n",
      "C:\\Users\\10168\\anaconda3\\lib\\site-packages\\sklearn\\preprocessing\\_data.py:462: RuntimeWarning: All-NaN slice encountered\n",
      "  data_max = np.nanmax(X, axis=0)\n",
      "C:\\Users\\10168\\anaconda3\\lib\\site-packages\\sklearn\\preprocessing\\_data.py:461: RuntimeWarning: All-NaN slice encountered\n",
      "  data_min = np.nanmin(X, axis=0)\n",
      "C:\\Users\\10168\\anaconda3\\lib\\site-packages\\sklearn\\preprocessing\\_data.py:462: RuntimeWarning: All-NaN slice encountered\n",
      "  data_max = np.nanmax(X, axis=0)\n"
     ]
    },
    {
     "name": "stdout",
     "output_type": "stream",
     "text": [
      "      method  Precision@10  Recall@10  Coverage@10\n",
      "0  ItemCF_AR      0.107459   0.346098     0.111111\n",
      "1  UserCF_AR      0.093570   0.283562     0.981481\n"
     ]
    }
   ],
   "source": [
    "# prepare the test data\n",
    "test_data = pd.read_csv('Groceries data test.csv')\n",
    "metrics = pd.DataFrame(columns=['method', 'Precision@10', 'Recall@10', 'Coverage@10'])\n",
    "methods = [hybrid_item_ar_support, hybrid_user_ar_support]\n",
    "method_names = ['ItemCF_AR', 'UserCF_AR']\n",
    "\n",
    "for i in range(2):\n",
    "    precision, recall = calculate_precision_recall_at_k(test_data, methods[i], k=10)\n",
    "    coverage=calculate_coverage_at_k(test_data, methods[i],k=10)\n",
    "    metrics.loc[i] = [method_names[i], precision, recall, coverage]\n",
    "\n",
    "print(metrics)\n",
    "\n",
    "# Read existing metrics file\n",
    "existing_metrics = pd.read_csv('metrics.csv')\n",
    "\n",
    "# Append new metrics\n",
    "all_metrics = pd.concat([existing_metrics, metrics])\n",
    "\n",
    "# Save to csv\n",
    "all_metrics.to_csv('metrics.csv', index=False)"
   ]
  },
  {
   "cell_type": "markdown",
   "id": "a9d0a5bc",
   "metadata": {},
   "source": [
    "# 3 Runtime Analysis"
   ]
  },
  {
   "cell_type": "markdown",
   "id": "3d7463da",
   "metadata": {},
   "source": [
    "## 3.1 Runtime Of Pattern Mining"
   ]
  },
  {
   "cell_type": "code",
   "execution_count": 8,
   "id": "8979a448",
   "metadata": {},
   "outputs": [
    {
     "name": "stdout",
     "output_type": "stream",
     "text": [
      "Dataset size: 100, Runtime: 0.004282200000034209 seconds\n",
      "Dataset size: 500, Runtime: 0.009900099999981649 seconds\n",
      "Dataset size: 1000, Runtime: 0.01628899999997202 seconds\n",
      "Dataset size: 2000, Runtime: 0.027187800000035622 seconds\n",
      "Dataset size: 5000, Runtime: 0.049530300000014904 seconds\n"
     ]
    },
    {
     "name": "stderr",
     "output_type": "stream",
     "text": [
      "C:\\Users\\10168\\AppData\\Local\\Temp\\ipykernel_11792\\2639329580.py:47: FutureWarning: The frame.append method is deprecated and will be removed from pandas in a future version. Use pandas.concat instead.\n",
      "  results_df = results_df.append({\"dataset_size\": size, \"runtime\": runtime}, ignore_index=True)\n",
      "C:\\Users\\10168\\AppData\\Local\\Temp\\ipykernel_11792\\2639329580.py:47: FutureWarning: The frame.append method is deprecated and will be removed from pandas in a future version. Use pandas.concat instead.\n",
      "  results_df = results_df.append({\"dataset_size\": size, \"runtime\": runtime}, ignore_index=True)\n",
      "C:\\Users\\10168\\AppData\\Local\\Temp\\ipykernel_11792\\2639329580.py:47: FutureWarning: The frame.append method is deprecated and will be removed from pandas in a future version. Use pandas.concat instead.\n",
      "  results_df = results_df.append({\"dataset_size\": size, \"runtime\": runtime}, ignore_index=True)\n",
      "C:\\Users\\10168\\AppData\\Local\\Temp\\ipykernel_11792\\2639329580.py:47: FutureWarning: The frame.append method is deprecated and will be removed from pandas in a future version. Use pandas.concat instead.\n",
      "  results_df = results_df.append({\"dataset_size\": size, \"runtime\": runtime}, ignore_index=True)\n",
      "C:\\Users\\10168\\AppData\\Local\\Temp\\ipykernel_11792\\2639329580.py:47: FutureWarning: The frame.append method is deprecated and will be removed from pandas in a future version. Use pandas.concat instead.\n",
      "  results_df = results_df.append({\"dataset_size\": size, \"runtime\": runtime}, ignore_index=True)\n"
     ]
    },
    {
     "name": "stdout",
     "output_type": "stream",
     "text": [
      "Dataset size: 10000, Runtime: 0.07972690000002558 seconds\n",
      "Dataset size: 15000, Runtime: 0.096597700000018 seconds\n"
     ]
    },
    {
     "name": "stderr",
     "output_type": "stream",
     "text": [
      "C:\\Users\\10168\\AppData\\Local\\Temp\\ipykernel_11792\\2639329580.py:47: FutureWarning: The frame.append method is deprecated and will be removed from pandas in a future version. Use pandas.concat instead.\n",
      "  results_df = results_df.append({\"dataset_size\": size, \"runtime\": runtime}, ignore_index=True)\n",
      "C:\\Users\\10168\\AppData\\Local\\Temp\\ipykernel_11792\\2639329580.py:47: FutureWarning: The frame.append method is deprecated and will be removed from pandas in a future version. Use pandas.concat instead.\n",
      "  results_df = results_df.append({\"dataset_size\": size, \"runtime\": runtime}, ignore_index=True)\n"
     ]
    },
    {
     "name": "stdout",
     "output_type": "stream",
     "text": [
      "Dataset size: 20000, Runtime: 0.11134060000000545 seconds\n",
      "Dataset size: 25000, Runtime: 0.13706010000004198 seconds\n"
     ]
    },
    {
     "name": "stderr",
     "output_type": "stream",
     "text": [
      "C:\\Users\\10168\\AppData\\Local\\Temp\\ipykernel_11792\\2639329580.py:47: FutureWarning: The frame.append method is deprecated and will be removed from pandas in a future version. Use pandas.concat instead.\n",
      "  results_df = results_df.append({\"dataset_size\": size, \"runtime\": runtime}, ignore_index=True)\n",
      "C:\\Users\\10168\\AppData\\Local\\Temp\\ipykernel_11792\\2639329580.py:47: FutureWarning: The frame.append method is deprecated and will be removed from pandas in a future version. Use pandas.concat instead.\n",
      "  results_df = results_df.append({\"dataset_size\": size, \"runtime\": runtime}, ignore_index=True)\n"
     ]
    }
   ],
   "source": [
    "import pandas as pd\n",
    "import time\n",
    "from mlxtend.preprocessing import TransactionEncoder\n",
    "from mlxtend.frequent_patterns import apriori, association_rules\n",
    "\n",
    "def run_pattern_mining(df):\n",
    "    # Group by member number, and merge all item descriptions purchased by one member together\n",
    "    shoppingLists = df.groupby(['Member_number'])['itemDescription'].apply(list)\n",
    "    shoppingLists = shoppingLists.values.tolist()\n",
    "\n",
    "    # encode df to pandas DataFrame\n",
    "    te = TransactionEncoder()\n",
    "    te_ary = te.fit(shoppingLists).transform(shoppingLists)\n",
    "    df_encode = pd.DataFrame(te_ary, columns=te.columns_)\n",
    "\n",
    "    # Get frequent itemsets with a minimum support of 0.02\n",
    "    frequent_itemsets = apriori(df_encode, min_support=0.02, use_colnames=True)\n",
    "    \n",
    "    return frequent_itemsets\n",
    "\n",
    "# Datasets sizes for runtime analysis\n",
    "dataset_sizes = [100, 500, 1000, 2000, 5000, 10000, 15000, 20000, 25000]\n",
    "\n",
    "# Load the initial dataset\n",
    "df = pd.read_csv('Groceries data train.csv')\n",
    "\n",
    "# For each size, create a smaller dataset and save it to a CSV file\n",
    "for size in dataset_sizes:\n",
    "    df_sample = df.sample(n=size, random_state=1)\n",
    "    df_sample.to_csv(f'Groceries data train_{size}.csv', index=False)\n",
    "\n",
    "# Dataframe to store the results\n",
    "results_df = pd.DataFrame(columns=[\"dataset_size\", \"runtime\"])\n",
    "\n",
    "for size in dataset_sizes:\n",
    "    # Load a dataset of the required size\n",
    "    df = pd.read_csv(f'Groceries data train_{size}.csv')\n",
    "\n",
    "    start_time = time.perf_counter()\n",
    "    frequent_itemsets = run_pattern_mining(df)\n",
    "    end_time = time.perf_counter()\n",
    "\n",
    "    runtime = end_time - start_time\n",
    "    print(f\"Dataset size: {size}, Runtime: {runtime} seconds\")\n",
    "\n",
    "    # Append the results to the dataframe\n",
    "    results_df = results_df.append({\"dataset_size\": size, \"runtime\": runtime}, ignore_index=True)\n",
    "\n",
    "# Save the results to a CSV file\n",
    "results_df.to_csv(\"runtime_analysis_results.csv\", index=False)\n"
   ]
  },
  {
   "cell_type": "code",
   "execution_count": 9,
   "id": "a863af01",
   "metadata": {},
   "outputs": [
    {
     "data": {
      "image/png": "[encoded data removed]",
      "text/plain": [
       "<Figure size 1000x600 with 1 Axes>"
      ]
     },
     "metadata": {},
     "output_type": "display_data"
    }
   ],
   "source": [
    "import matplotlib.pyplot as plt\n",
    "\n",
    "# Load the runtime analysis results\n",
    "results_df = pd.read_csv(\"runtime_analysis_results.csv\")\n",
    "\n",
    "# Create a plot\n",
    "plt.figure(figsize=(10, 6))\n",
    "\n",
    "# Plot dataset_size vs runtime\n",
    "plt.plot(results_df[\"dataset_size\"], results_df[\"runtime\"], marker='o')\n",
    "\n",
    "# Set the title and labels\n",
    "plt.title('Runtime Analysis of Pattern Mining')\n",
    "plt.xlabel('Dataset Size')\n",
    "plt.ylabel('Runtime (seconds)')\n",
    "\n",
    "# Show the plot\n",
    "plt.show()\n"
   ]
  },
  {
   "cell_type": "markdown",
   "id": "71f0ab23",
   "metadata": {},
   "source": [
    "It's a roughly linear runtime plot."
   ]
  },
  {
   "cell_type": "code",
   "execution_count": 10,
   "id": "ff82af00",
   "metadata": {},
   "outputs": [
    {
     "name": "stdout",
     "output_type": "stream",
     "text": [
      "Predicted runtime for dataset of size 1,000,000: 5.170814166489873 seconds\n"
     ]
    }
   ],
   "source": [
    "# Predict the runtime of 1 million dataset\n",
    "import numpy as np\n",
    "\n",
    "# store the runtime data\n",
    "runtime = pd.read_csv(\"runtime_analysis_results.csv\")\n",
    "\n",
    "# Fit a line to the data using numpy's polyfit function\n",
    "coefficients = np.polyfit(runtime[\"dataset_size\"], runtime[\"runtime\"], 1)\n",
    "\n",
    "# The coefficients represent the slope and intercept of the best fit line\n",
    "slope = coefficients[0]\n",
    "intercept = coefficients[1]\n",
    "\n",
    "# Now we can use the line equation to predict the runtime for a dataset of size 1,000,000\n",
    "predicted_runtime = slope * 1000000 + intercept\n",
    "print(f\"Predicted runtime for dataset of size 1,000,000: {predicted_runtime} seconds\")\n"
   ]
  },
  {
   "cell_type": "markdown",
   "id": "bbbda2fc",
   "metadata": {},
   "source": [
    "## 3.2 Runtime of Similarity Calculation"
   ]
  },
  {
   "cell_type": "code",
   "execution_count": 3,
   "id": "1ab146f3",
   "metadata": {},
   "outputs": [
    {
     "name": "stdout",
     "output_type": "stream",
     "text": [
      "Dataset size: 10000, Runtime: 0.0011919000000091273 seconds\n",
      "Dataset size: 11000, Runtime: 0.0011718999999743573 seconds\n",
      "Dataset size: 12000, Runtime: 0.0012229999999817665 seconds\n",
      "Dataset size: 13000, Runtime: 0.0012299999999925149 seconds\n"
     ]
    },
    {
     "name": "stderr",
     "output_type": "stream",
     "text": [
      "C:\\Users\\10168\\AppData\\Local\\Temp\\ipykernel_11792\\2261053919.py:44: FutureWarning: The frame.append method is deprecated and will be removed from pandas in a future version. Use pandas.concat instead.\n",
      "  results_df = results_df.append({\"dataset_size\": size, \"runtime\": runtime}, ignore_index=True)\n",
      "C:\\Users\\10168\\AppData\\Local\\Temp\\ipykernel_11792\\2261053919.py:44: FutureWarning: The frame.append method is deprecated and will be removed from pandas in a future version. Use pandas.concat instead.\n",
      "  results_df = results_df.append({\"dataset_size\": size, \"runtime\": runtime}, ignore_index=True)\n",
      "C:\\Users\\10168\\AppData\\Local\\Temp\\ipykernel_11792\\2261053919.py:44: FutureWarning: The frame.append method is deprecated and will be removed from pandas in a future version. Use pandas.concat instead.\n",
      "  results_df = results_df.append({\"dataset_size\": size, \"runtime\": runtime}, ignore_index=True)\n",
      "C:\\Users\\10168\\AppData\\Local\\Temp\\ipykernel_11792\\2261053919.py:44: FutureWarning: The frame.append method is deprecated and will be removed from pandas in a future version. Use pandas.concat instead.\n",
      "  results_df = results_df.append({\"dataset_size\": size, \"runtime\": runtime}, ignore_index=True)\n"
     ]
    },
    {
     "name": "stdout",
     "output_type": "stream",
     "text": [
      "Dataset size: 14000, Runtime: 0.0014040000000079544 seconds\n",
      "Dataset size: 15000, Runtime: 0.0015319999999974243 seconds\n",
      "Dataset size: 20000, Runtime: 0.0018291000000090207 seconds\n"
     ]
    },
    {
     "name": "stderr",
     "output_type": "stream",
     "text": [
      "C:\\Users\\10168\\AppData\\Local\\Temp\\ipykernel_11792\\2261053919.py:44: FutureWarning: The frame.append method is deprecated and will be removed from pandas in a future version. Use pandas.concat instead.\n",
      "  results_df = results_df.append({\"dataset_size\": size, \"runtime\": runtime}, ignore_index=True)\n",
      "C:\\Users\\10168\\AppData\\Local\\Temp\\ipykernel_11792\\2261053919.py:44: FutureWarning: The frame.append method is deprecated and will be removed from pandas in a future version. Use pandas.concat instead.\n",
      "  results_df = results_df.append({\"dataset_size\": size, \"runtime\": runtime}, ignore_index=True)\n",
      "C:\\Users\\10168\\AppData\\Local\\Temp\\ipykernel_11792\\2261053919.py:44: FutureWarning: The frame.append method is deprecated and will be removed from pandas in a future version. Use pandas.concat instead.\n",
      "  results_df = results_df.append({\"dataset_size\": size, \"runtime\": runtime}, ignore_index=True)\n"
     ]
    },
    {
     "name": "stdout",
     "output_type": "stream",
     "text": [
      "Dataset size: 25000, Runtime: 0.002501700000010487 seconds\n"
     ]
    },
    {
     "name": "stderr",
     "output_type": "stream",
     "text": [
      "C:\\Users\\10168\\AppData\\Local\\Temp\\ipykernel_11792\\2261053919.py:44: FutureWarning: The frame.append method is deprecated and will be removed from pandas in a future version. Use pandas.concat instead.\n",
      "  results_df = results_df.append({\"dataset_size\": size, \"runtime\": runtime}, ignore_index=True)\n"
     ]
    }
   ],
   "source": [
    "import pandas as pd\n",
    "import numpy as np\n",
    "import time\n",
    "from sklearn.metrics.pairwise import cosine_similarity\n",
    "from scipy import sparse \n",
    "\n",
    "def run_item_based_similarity(df):\n",
    "    # Create a pivot table with members as rows, items as columns and purchase as values\n",
    "    pivot_table = df.pivot_table(index='Member_number', columns='itemDescription', aggfunc='size', fill_value=0)\n",
    "\n",
    "    # Convert the pivot table to a sparse matrix for more efficient calculations\n",
    "    sparse_matrix = sparse.csr_matrix(pivot_table.values)\n",
    "\n",
    "    # Calculate the cosine similarity matrix\n",
    "    start_time = time.perf_counter()\n",
    "    item_similarity = cosine_similarity(sparse_matrix.T)\n",
    "    end_time = time.perf_counter()\n",
    "\n",
    "    # Return the runtime\n",
    "    return end_time - start_time\n",
    "\n",
    "# Datasets sizes for runtime analysis\n",
    "dataset_sizes = [10000, 11000,12000,13000,14000,15000, 20000, 25000]\n",
    "\n",
    "# load the train data\n",
    "df = pd.read_csv('Groceries data train.csv')\n",
    "\n",
    "# For each size, create a smaller dataset and save it to a CSV file\n",
    "for size in dataset_sizes:\n",
    "    df_sample = df.sample(n=size, random_state=1)\n",
    "    df_sample.to_csv(f'Groceries data train_{size}.csv', index=False)\n",
    "\n",
    "# Dataframe to store the results\n",
    "results_df = pd.DataFrame(columns=[\"dataset_size\", \"runtime\"])\n",
    "\n",
    "for size in dataset_sizes:\n",
    "    # Load a dataset of the required size\n",
    "    df = pd.read_csv(f'Groceries data train_{size}.csv')\n",
    "\n",
    "    runtime = run_item_based_similarity(df)\n",
    "    print(f\"Dataset size: {size}, Runtime: {runtime} seconds\")\n",
    "\n",
    "    # Append the results to the dataframe\n",
    "    results_df = results_df.append({\"dataset_size\": size, \"runtime\": runtime}, ignore_index=True)\n",
    "\n",
    "# Save the results to a CSV file\n",
    "results_df.to_csv(\"item_similarity_runtime_analysis_results.csv\", index=False)\n"
   ]
  },
  {
   "cell_type": "code",
   "execution_count": 4,
   "id": "573ed6d0",
   "metadata": {},
   "outputs": [
    {
     "data": {
      "image/png": "[encoded data removed]",
      "text/plain": [
       "<Figure size 1000x600 with 1 Axes>"
      ]
     },
     "metadata": {},
     "output_type": "display_data"
    }
   ],
   "source": [
    "import matplotlib.pyplot as plt\n",
    "\n",
    "# Load the runtime analysis results\n",
    "results_df = pd.read_csv(\"item_similarity_runtime_analysis_results.csv\")\n",
    "\n",
    "# Create a plot\n",
    "plt.figure(figsize=(10, 6))\n",
    "\n",
    "# Plot dataset_size vs runtime\n",
    "plt.plot(results_df[\"dataset_size\"], results_df[\"runtime\"], marker='o')\n",
    "\n",
    "# Set the title and labels\n",
    "plt.title('Runtime Analysis of item_based_similarity')\n",
    "plt.xlabel('Dataset Size')\n",
    "plt.ylabel('Runtime (seconds)')\n",
    "\n",
    "# Show the plot\n",
    "plt.show()"
   ]
  },
  {
   "cell_type": "code",
   "execution_count": 5,
   "id": "48541364",
   "metadata": {},
   "outputs": [
    {
     "name": "stdout",
     "output_type": "stream",
     "text": [
      "The estimated runtime for a dataset of size 1 million is 3.244422017122034 seconds.\n"
     ]
    }
   ],
   "source": [
    "import numpy as np\n",
    "import pandas as pd\n",
    "\n",
    "# Load your CSV file\n",
    "item_similarity_results = pd.read_csv('item_similarity_runtime_analysis_results.csv')\n",
    "\n",
    "# Fit a polynomial of degree 2 (quadratic) to the data\n",
    "coefficients = np.polyfit(item_similarity_results['dataset_size'], item_similarity_results['runtime'], 2)\n",
    "\n",
    "# Use the fitted polynomial to predict the runtime for a dataset of size 1 million\n",
    "predicted_runtime = np.polyval(coefficients, 1000000)\n",
    "\n",
    "print(f\"The estimated runtime for a dataset of size 1 million is {predicted_runtime} seconds.\")\n"
   ]
  },
  {
   "cell_type": "markdown",
   "id": "97b6d11b",
   "metadata": {},
   "source": [
    "Note that is runtime doesn't include the time of recommending but preparing the data for recommendation"
   ]
  },
  {
   "cell_type": "code",
   "execution_count": null,
   "id": "b204792c",
   "metadata": {},
   "outputs": [],
   "source": []
  },
  {
   "cell_type": "markdown",
   "id": "884e06b0",
   "metadata": {},
   "source": [
    "# 4 Result Discussion"
   ]
  },
  {
   "cell_type": "code",
   "execution_count": 117,
   "id": "d3dc33c9",
   "metadata": {},
   "outputs": [
    {
     "name": "stdout",
     "output_type": "stream",
     "text": [
      "                method  Precision@10  Recall@10  Coverage@10\n",
      "0        CF_Item_Based      0.096943   0.303565     0.125749\n",
      "1        CF_User_Based      0.051038   0.159817     0.952096\n",
      "2  Pattern_Mining_0.02      0.097280   0.304619     0.107784\n",
      "3  Pattern_Mining_0.03      0.086343   0.270372     0.101796\n",
      "4  Pattern_Mining_0.04      0.074706   0.233930     0.095808\n",
      "5              AR_Lift      0.060601   0.160432     0.125749\n",
      "6           AR_Support      0.089491   0.235687     0.071856\n",
      "7        AR_Confidence      0.033113   0.087197     0.059880\n",
      "8            ItemCF_AR      0.107459   0.346098     0.111111\n",
      "9            UserCF_AR      0.093570   0.283562     0.981481\n"
     ]
    },
    {
     "data": {
      "image/png": "[encoded data removed]",
      "text/plain": [
       "<Figure size 1000x600 with 1 Axes>"
      ]
     },
     "metadata": {},
     "output_type": "display_data"
    },
    {
     "data": {
      "image/png": "[encoded data removed]",
      "text/plain": [
       "<Figure size 1000x600 with 1 Axes>"
      ]
     },
     "metadata": {},
     "output_type": "display_data"
    },
    {
     "data": {
      "image/png": "[encoded data removed]",
      "text/plain": [
       "<Figure size 1000x600 with 1 Axes>"
      ]
     },
     "metadata": {},
     "output_type": "display_data"
    }
   ],
   "source": [
    "import pandas as pd\n",
    "import matplotlib.pyplot as plt\n",
    "\n",
    "# Load the data\n",
    "df = pd.read_csv('metrics.csv')\n",
    "\n",
    "# Display the data\n",
    "print(df)\n",
    "\n",
    "# Plot Precision@10\n",
    "plt.figure(figsize=(10, 6))\n",
    "plt.barh(df['method'], df['Precision@10'], color='skyblue')\n",
    "plt.xlabel('Precision@10')\n",
    "plt.title('Precision@10 for each method')\n",
    "plt.show()\n",
    "\n",
    "# Plot Recall@10\n",
    "plt.figure(figsize=(10, 6))\n",
    "plt.barh(df['method'], df['Recall@10'], color='skyblue')\n",
    "plt.xlabel('Recall@10')\n",
    "plt.title('Recall@10 for each method')\n",
    "plt.show()\n",
    "\n",
    "# Plot Coverage@10\n",
    "plt.figure(figsize=(10, 6))\n",
    "plt.barh(df['method'], df['Coverage@10'], color='skyblue')\n",
    "plt.xlabel('Coverage@10')\n",
    "plt.title('Coverage@10 for each method')\n",
    "plt.show()\n"
   ]
  },
  {
   "cell_type": "markdown",
   "id": "28c3ac48",
   "metadata": {},
   "source": [
    " The 'ItemCF_AR' method is performing best in terms of precision and recall, meaning it is doing the best job at recommending relevant items. However, the 'CF_User_Based' method is doing a better job at recommending a diverse set of items, as indicated by its high coverage."
   ]
  }
 ],
 "metadata": {
  "kernelspec": {
   "display_name": "Python 3 (ipykernel)",
   "language": "python",
   "name": "python3"
  },
  "language_info": {
   "codemirror_mode": {
    "name": "ipython",
    "version": 3
   },
   "file_extension": ".py",
   "mimetype": "text/x-python",
   "name": "python",
   "nbconvert_exporter": "python",
   "pygments_lexer": "ipython3",
   "version": "3.9.13"
  }
 },
 "nbformat": 4,
 "nbformat_minor": 5
}
